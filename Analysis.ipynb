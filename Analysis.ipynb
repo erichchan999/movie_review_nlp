{
  "nbformat": 4,
  "nbformat_minor": 0,
  "metadata": {
    "colab": {
      "provenance": [],
      "collapsed_sections": [
        "CANS92hp2h5u",
        "RBOf4XUVzjl7",
        "ASuQEaMJ3G81",
        "Xy4_PQxY3IlL",
        "sIeC1FD73OcL",
        "jyDllyLVnYgZ",
        "wVYQCf9qzyHJ",
        "QUY3x7hK2BvG",
        "ruruIXUS5CZy",
        "UQayxmI009Zt",
        "7kaiVAXG07Sm",
        "0AGNqtrs3dMj",
        "IIufLt7e3e-6"
      ]
    },
    "kernelspec": {
      "name": "python3",
      "display_name": "Python 3"
    },
    "language_info": {
      "name": "python"
    }
  },
  "cells": [
    {
      "cell_type": "markdown",
      "source": [
        "<h1>Introduction</h1>\n",
        "\n",
        "\n",
        "The aim of this project was to perform sentiment analysis on a collection of movie reviews sourced from the IMDb movie review site, in order to automatically classify each review in the dataset as either positive or negative.\n",
        "\n",
        "Our group performed a series of experiments leveraging a range of natural language processing (NLP) techniques to determine the process which would yield the highest performance (in this case, measured by validation accuracy and loss) when classifying reviews in the dataset.\n",
        "\n",
        "In a general sense, the findings of this project may be applicable in industry for the purpose of automatically producing meaningful statistical metrics about a set of user-submitted text. These metrics would describe the presiding sentiment of a large set of such submissions, and may be used by a company to inform decisions about their user base, or provide users with context regarding the opinions of other users.\n",
        "\n",
        "For instance, these techniques could be applied to the analysis of reviews for products in an online retail space, allowing the company to better determine which products are most popular (user-submitted quantitative ratings, e.g. stars, may be unreliable), or providing prospective customers more detailed information about the opinions of owners of the product.\n",
        "\n",
        "\n",
        "\n",
        "\n",
        "\n",
        "\n"
      ],
      "metadata": {
        "id": "62Im7WcuyO-5"
      }
    },
    {
      "cell_type": "markdown",
      "source": [
        "# Imports and global variables"
      ],
      "metadata": {
        "id": "gMfLQ7FHpVJC"
      }
    },
    {
      "cell_type": "code",
      "source": [
        "import os\n",
        "import numpy as np\n",
        "import pandas as pd\n",
        "import matplotlib.pyplot as plt\n",
        "import torch\n",
        "from sklearn.model_selection import train_test_split\n",
        "import textwrap\n",
        "from bs4 import BeautifulSoup\n",
        "import re\n",
        "import nltk\n",
        "from nltk.corpus import stopwords\n",
        "import spacy\n",
        "from torchtext.vocab import GloVe, FastText\n",
        "from torch.utils.data import DataLoader, Dataset\n",
        "from torch import nn\n",
        "from torch.nn import functional as F\n",
        "from torch.optim import Adam\n",
        "from tqdm import tqdm\n",
        "from sklearn.metrics import accuracy_score\n",
        "from IPython.display import display, Markdown, HTML"
      ],
      "metadata": {
        "id": "rvASVH2UpaMK"
      },
      "execution_count": null,
      "outputs": []
    },
    {
      "cell_type": "code",
      "source": [
        "# Download core english lemmatisation database\n",
        "!python -m spacy download en_core_web_sm\n",
        "spacy_nlp = spacy.load('en_core_web_sm')"
      ],
      "metadata": {
        "id": "Or0YKdj1vE79"
      },
      "execution_count": null,
      "outputs": []
    },
    {
      "cell_type": "code",
      "source": [
        "# Download nltk english stopwords\n",
        "nltk.download('stopwords')"
      ],
      "metadata": {
        "colab": {
          "base_uri": "https://localhost:8080/"
        },
        "id": "aPUqzhyBFF2_",
        "outputId": "22b4f5eb-44c1-4b16-c879-28bae7280cca"
      },
      "execution_count": null,
      "outputs": [
        {
          "output_type": "stream",
          "name": "stderr",
          "text": [
            "[nltk_data] Downloading package stopwords to\n",
            "[nltk_data]     C:\\Users\\erich\\AppData\\Roaming\\nltk_data...\n",
            "[nltk_data]   Package stopwords is already up-to-date!\n"
          ]
        },
        {
          "output_type": "execute_result",
          "data": {
            "text/plain": [
              "True"
            ]
          },
          "metadata": {},
          "execution_count": 45
        }
      ]
    },
    {
      "cell_type": "code",
      "source": [
        "# NOTE: Modify this path to point to the desired directory for caching data and model files\n",
        "PATH = ''\n",
        "\n",
        "device = torch.device('cuda' if torch.cuda.is_available() else 'cpu')\n",
        "MAX_REVIEW_LENGTH = 150\n",
        "BATCH_SIZE = 64"
      ],
      "metadata": {
        "id": "326RS9ULpbmM"
      },
      "execution_count": null,
      "outputs": []
    },
    {
      "cell_type": "markdown",
      "source": [
        "# Data sources\n",
        "\n",
        "Link to kaggle competition: https://www.kaggle.com/competitions/word2vec-nlp-tutorial/overview\n",
        "\n",
        "Accessing the database requires agreeing to the competition rules. Once accepted, database can be downloaded and extracted to running instance.\n",
        "\n",
        "Before continuing please download labeledTrainData.tsv to root from the extracted ZIP file.\n",
        "\n"
      ],
      "metadata": {
        "id": "zVQoYJ0yymOl"
      }
    },
    {
      "cell_type": "markdown",
      "source": [
        "# Exploratory data analysis\n",
        "\n",
        "Following steps are performed before further exploring the dataset\n",
        "\n",
        "*   Remove HTML tags\n",
        "*   Remove all non-letters\n",
        "*   Convert text to lowercase\n"
      ],
      "metadata": {
        "id": "OzDE7e4ry42z"
      }
    },
    {
      "cell_type": "code",
      "source": [
        "labeledTrainData = pd.read_csv(PATH + \"labeledTrainData.tsv\", header=0, delimiter=\"\\t\", quoting=3)\n",
        "print('labeledTrainData shape:', labeledTrainData.shape)\n",
        "print('labeledTrainData column values:', labeledTrainData.columns.values)\n",
        "\n",
        "print('labeledTrainData first element:')\n",
        "print('review text:')\n",
        "print(textwrap.fill(labeledTrainData['review'][0], 100))\n",
        "print('sentiment: ', labeledTrainData['sentiment'][0])\n",
        "\n",
        "print('Count of sentiment labels:')\n",
        "print(labeledTrainData['sentiment'].value_counts())\n",
        "labeledTrainData['sentiment'].hist()\n",
        "plt.title('Count of sentiment labels')\n",
        "plt.show()\n",
        "\n",
        "test_size = 0.2\n",
        "X_train, X_test, y_train, y_test = train_test_split(\n",
        "    labeledTrainData['review'], labeledTrainData['sentiment'], test_size=test_size, random_state=0)\n",
        "\n",
        "# Convert from series to dataframe to store the processedreview column\n",
        "X_train = pd.DataFrame(X_train)\n",
        "X_test = pd.DataFrame(X_test)\n",
        "\n",
        "\n",
        "def review_to_wordlist(review, remove_stopwords=False, lemmatise=False):\n",
        "    # 1. Remove HTML\n",
        "    review_text = BeautifulSoup(review).get_text()\n",
        "\n",
        "    # 2. Remove non-letters\n",
        "    review_text = re.sub(\"[^a-zA-Z]\",\" \", review_text)\n",
        "\n",
        "    # 3. Convert words to lower case and split them\n",
        "    words = review_text.lower().split()\n",
        "\n",
        "    # 4. Optionally remove stop words (false by default, always remove if using BERT tokenisation)\n",
        "    if remove_stopwords:\n",
        "        stops = set(stopwords.words(\"english\"))\n",
        "        words = [w for w in words if not w in stops]\n",
        "\n",
        "    # 5. Optionally lemmatise (false by default, always lemmatise if using BERT tokenisation)\n",
        "    if lemmatise:\n",
        "        review_text = ' '.join(words)\n",
        "        review_spacy = spacy_nlp(review_text)\n",
        "        words = [token.lemma_ for token in review_spacy]\n",
        "\n",
        "    # 6. Return a list of words\n",
        "    return(words)\n",
        "\n",
        "\n",
        "def process_review(review):\n",
        "    return ' '.join(review_to_wordlist(review))\n",
        "\n",
        "\n",
        "# example with first review\n",
        "# textwrap.fill is for making the formatting of strings better when using print()\n",
        "print('converting review of first element to wordlist:')\n",
        "print(textwrap.fill(' '.join(review_to_wordlist(labeledTrainData['review'][0])), 100))\n",
        "\n",
        "# Using function above to process all the training data for further exploration:\n",
        "X_train['ProcessedReview'] = \"\"\n",
        "X_train['ProcessedReview'] = X_train['review'].apply(process_review)"
      ],
      "metadata": {
        "id": "s1gH3XxSzRH5",
        "colab": {
          "base_uri": "https://localhost:8080/",
          "height": 1000
        },
        "outputId": "8b775e0c-b2c8-4a92-d4c9-7109f43ecf9d"
      },
      "execution_count": null,
      "outputs": [
        {
          "output_type": "stream",
          "name": "stdout",
          "text": [
            "labeledTrainData shape: (25000, 3)\n",
            "labeledTrainData column values: ['id' 'sentiment' 'review']\n",
            "labeledTrainData first element:\n",
            "review text:\n",
            "\"With all this stuff going down at the moment with MJ i've started listening to his music, watching\n",
            "the odd documentary here and there, watched The Wiz and watched Moonwalker again. Maybe i just want\n",
            "to get a certain insight into this guy who i thought was really cool in the eighties just to maybe\n",
            "make up my mind whether he is guilty or innocent. Moonwalker is part biography, part feature film\n",
            "which i remember going to see at the cinema when it was originally released. Some of it has subtle\n",
            "messages about MJ's feeling towards the press and also the obvious message of drugs are bad\n",
            "m'kay.<br /><br />Visually impressive but of course this is all about Michael Jackson so unless you\n",
            "remotely like MJ in anyway then you are going to hate this and find it boring. Some may call MJ an\n",
            "egotist for consenting to the making of this movie BUT MJ and most of his fans would say that he\n",
            "made it for the fans which if true is really nice of him.<br /><br />The actual feature film bit\n",
            "when it finally starts is only on for 20 minutes or so excluding the Smooth Criminal sequence and\n",
            "Joe Pesci is convincing as a psychopathic all powerful drug lord. Why he wants MJ dead so bad is\n",
            "beyond me. Because MJ overheard his plans? Nah, Joe Pesci's character ranted that he wanted people\n",
            "to know it is he who is supplying drugs etc so i dunno, maybe he just hates MJ's music.<br /><br\n",
            "/>Lots of cool things in this like MJ turning into a car and a robot and the whole Speed Demon\n",
            "sequence. Also, the director must have had the patience of a saint when it came to filming the kiddy\n",
            "Bad sequence as usually directors hate working with one kid let alone a whole bunch of them\n",
            "performing a complex dance scene.<br /><br />Bottom line, this movie is for people who like MJ on\n",
            "one level or another (which i think is most people). If not, then stay away. It does try and give\n",
            "off a wholesome message and ironically MJ's bestest buddy in this movie is a girl! Michael Jackson\n",
            "is truly one of the most talented people ever to grace this planet but is he guilty? Well, with all\n",
            "the attention i've gave this subject....hmmm well i don't know because people can be different\n",
            "behind closed doors, i know this for a fact. He is either an extremely nice but stupid guy or one of\n",
            "the most sickest liars. I hope he is not the latter.\"\n",
            "sentiment:  1\n",
            "Count of sentiment labels:\n",
            "1    12500\n",
            "0    12500\n",
            "Name: sentiment, dtype: int64\n"
          ]
        },
        {
          "output_type": "display_data",
          "data": {
            "text/plain": [
              "<Figure size 432x288 with 1 Axes>"
            ],
            "image/png": "[encoded data removed]"
          },
          "metadata": {
            "needs_background": "light"
          }
        },
        {
          "output_type": "stream",
          "name": "stdout",
          "text": [
            "converting review of first element to wordlist:\n",
            "with all this stuff going down at the moment with mj i ve started listening to his music watching\n",
            "the odd documentary here and there watched the wiz and watched moonwalker again maybe i just want to\n",
            "get a certain insight into this guy who i thought was really cool in the eighties just to maybe make\n",
            "up my mind whether he is guilty or innocent moonwalker is part biography part feature film which i\n",
            "remember going to see at the cinema when it was originally released some of it has subtle messages\n",
            "about mj s feeling towards the press and also the obvious message of drugs are bad m kay visually\n",
            "impressive but of course this is all about michael jackson so unless you remotely like mj in anyway\n",
            "then you are going to hate this and find it boring some may call mj an egotist for consenting to the\n",
            "making of this movie but mj and most of his fans would say that he made it for the fans which if\n",
            "true is really nice of him the actual feature film bit when it finally starts is only on for minutes\n",
            "or so excluding the smooth criminal sequence and joe pesci is convincing as a psychopathic all\n",
            "powerful drug lord why he wants mj dead so bad is beyond me because mj overheard his plans nah joe\n",
            "pesci s character ranted that he wanted people to know it is he who is supplying drugs etc so i\n",
            "dunno maybe he just hates mj s music lots of cool things in this like mj turning into a car and a\n",
            "robot and the whole speed demon sequence also the director must have had the patience of a saint\n",
            "when it came to filming the kiddy bad sequence as usually directors hate working with one kid let\n",
            "alone a whole bunch of them performing a complex dance scene bottom line this movie is for people\n",
            "who like mj on one level or another which i think is most people if not then stay away it does try\n",
            "and give off a wholesome message and ironically mj s bestest buddy in this movie is a girl michael\n",
            "jackson is truly one of the most talented people ever to grace this planet but is he guilty well\n",
            "with all the attention i ve gave this subject hmmm well i don t know because people can be different\n",
            "behind closed doors i know this for a fact he is either an extremely nice but stupid guy or one of\n",
            "the most sickest liars i hope he is not the latter\n"
          ]
        },
        {
          "output_type": "stream",
          "name": "stderr",
          "text": [
            "C:\\Users\\erich\\anaconda3\\envs\\yolov7\\lib\\site-packages\\bs4\\__init__.py:435: MarkupResemblesLocatorWarning: The input looks more like a filename than markup. You may want to open this file and pass the filehandle into Beautiful Soup.\n",
            "  warnings.warn(\n"
          ]
        }
      ]
    },
    {
      "cell_type": "markdown",
      "source": [
        "Now we explore the data to get a general overview"
      ],
      "metadata": {
        "id": "Cde83u05uH9U"
      }
    },
    {
      "cell_type": "code",
      "source": [
        "# Get info about a dataframe containing pre-processed review text e.g. vocab size, words by frequency\n",
        "def get_word_info(df):\n",
        "  word_info = dict()\n",
        "  word_counts = dict()\n",
        "  review_lengths = []\n",
        "\n",
        "\n",
        "  for review in df['ProcessedReview']:\n",
        "    words = review.split(' ')\n",
        "    review_lengths.append(len(words))\n",
        "    for word in words:\n",
        "      if word in word_counts:\n",
        "        word_counts[word] += 1\n",
        "      else:\n",
        "        word_counts[word] = 1\n",
        "\n",
        "  word_info['word_counts'] = word_counts\n",
        "  word_info['max_review_length'] = max(review_lengths)\n",
        "  word_info['review_lengths'] = review_lengths\n",
        "  word_info['average_review_length'] = sum(review_lengths) / len(review_lengths)\n",
        "\n",
        "  word_info['review_count'] = df.shape[0]\n",
        "  word_info['vocab_size'] = len(word_counts)\n",
        "  word_info['total_word_count'] = sum(word_counts.values())\n",
        "\n",
        "  word_info['freq_words'], word_info['infreq_words'] = get_most_and_least_freq_words(word_counts, 100)\n",
        "  return word_info\n",
        "\n",
        "# Given a dictionary of words by frequency, return two lists containing the {num_words} most and least frequent words respectively\n",
        "def get_most_and_least_freq_words(word_count_dict, num_words):\n",
        "  # list of {num_words} most frequent words in all reviews - can use for word bubble?\n",
        "  freq_words = []\n",
        "  count = 0\n",
        "\n",
        "  num_words_to_get = min(num_words, len(word_count_dict))\n",
        "\n",
        "  for word in sorted(word_count_dict, key=word_count_dict.get, reverse=True):\n",
        "    if count == num_words_to_get:\n",
        "      break\n",
        "    freq_words.append(word)\n",
        "    count += 1\n",
        "\n",
        "  # list of {num_words} least frequent words in all reviews - can use for word bubble?\n",
        "  count = 0\n",
        "  infreq_words = []\n",
        "\n",
        "  for word in sorted(word_count_dict, key=word_count_dict.get):\n",
        "    if count == num_words_to_get:\n",
        "      break\n",
        "    infreq_words.append(word)\n",
        "    count += 1\n",
        "\n",
        "  return (freq_words, infreq_words)\n",
        "\n",
        "# Print info about a set of review text data e.g. vocab size, words by frequency, from a pre-built dictionary\n",
        "def print_word_info(word_info):\n",
        "  # number of different words (size of vocab)\n",
        "  print(\"Size of vocab: \" + str(word_info['vocab_size']))\n",
        "\n",
        "  # Max review length across all reviews\n",
        "  print(\"Max review length count across all reviews: \" + str(word_info['max_review_length']))\n",
        "\n",
        "  # Average review length across all reviews\n",
        "  print(\"Average review length count across all reviews: \" + str(word_info['average_review_length']))\n",
        "\n",
        "  # number of total words across all reviews (with duplicates)\n",
        "  print(\"Number of total words across all reviews: \" + str(word_info['total_word_count']))\n",
        "\n",
        "  print(\"Number of reviews: \" + str(word_info['review_count']))\n",
        "\n",
        "  # list of 100 most frequent words in all reviews - can use for word bubble?\n",
        "  print(\"100 most frequent words:\")\n",
        "  print(word_info['freq_words'])\n",
        "\n",
        "  # list of 100 least frequent words in all reviews - can use for word bubble?\n",
        "  print(\"100 least frequent words:\")\n",
        "  print(word_info['infreq_words'])\n",
        "\n",
        "  if 'freq_unique_words' in word_info:\n",
        "    print(f\"{len(word_info['freq_unique_words'])} most frequent unique words:\")\n",
        "    print(word_info['freq_unique_words'])\n",
        "\n",
        "  if 'infreq_unique_words' in word_info:\n",
        "    print(f\"{len(word_info['infreq_unique_words'])} least frequent unique words:\")\n",
        "    print(word_info['infreq_unique_words'])\n",
        "\n",
        "\n",
        "# Extract separate dataframes containing positive and negative reviews from the training data\n",
        "# Get indices of positive reviews (need to reset indices on y_train since it retains indices from original 25,000 item dataframe)\n",
        "positive_indices = y_train.reset_index().index[y_train == 1].tolist()\n",
        "\n",
        "print(f\"Type: {type(y_train[0])}\" )\n",
        "\n",
        "# Get positive reviews from set of all reviews using indices\n",
        "positive_reviews = X_train.iloc[positive_indices]\n",
        "\n",
        "# Get indices of negative reviews (need to reset indices on y_train since it retains indices from original 25,000 item dataframe)\n",
        "negative_indices = y_train.reset_index().index[y_train == 0].tolist()\n",
        "\n",
        "# Get positive reviews from set of all reviews using indices\n",
        "negative_reviews = X_train.iloc[negative_indices]\n",
        "\n",
        "positive_word_info = get_word_info(positive_reviews)\n",
        "negative_word_info = get_word_info(negative_reviews)\n",
        "\n",
        "# Get unique words in both positive and negative review data (non-shared words)\n",
        "positive_word_info['unique_word_counts'] = positive_word_info['word_counts'].copy()\n",
        "negative_word_info['unique_word_counts'] = negative_word_info['word_counts'].copy()\n",
        "for word in positive_word_info['word_counts']:\n",
        "  if word in negative_word_info['word_counts']:\n",
        "    positive_word_info['unique_word_counts'].pop(word)\n",
        "    negative_word_info['unique_word_counts'].pop(word)\n",
        "\n",
        "positive_word_info['freq_unique_words'], positive_word_info['infreq_unique_words'] = get_most_and_least_freq_words(positive_word_info['unique_word_counts'], 100)\n",
        "negative_word_info['freq_unique_words'], negative_word_info['infreq_unique_words'] = get_most_and_least_freq_words(negative_word_info['unique_word_counts'], 100)\n",
        "\n",
        "print(\"*** All the following applies for the training set only***\\n\")\n",
        "print(\"--- Analysis of All Reviews ---\")\n",
        "word_info = get_word_info(X_train)\n",
        "print_word_info(word_info)\n",
        "\n",
        "print(\"--- Analysis of Reviews with Positive Sentiment ---\")\n",
        "print_word_info(positive_word_info)\n",
        "\n",
        "print(\"--- Analysis of Reviews with Negative Sentiment ---\")\n",
        "print_word_info(negative_word_info)\n"
      ],
      "metadata": {
        "colab": {
          "base_uri": "https://localhost:8080/"
        },
        "id": "Z-MO8TZ7uDE8",
        "outputId": "ed86091f-38be-49fb-ea99-6a1c0a1ce579"
      },
      "execution_count": null,
      "outputs": [
        {
          "output_type": "stream",
          "name": "stdout",
          "text": [
            "Type: <class 'numpy.int64'>\n",
            "*** All the following applies for the training set only***\n",
            "\n",
            "--- Analysis of All Reviews ---\n",
            "Size of vocab: 67774\n",
            "Max review length count across all reviews: 2487\n",
            "Average review length count across all reviews: 237.6446\n",
            "Number of total words across all reviews: 4752892\n",
            "Number of reviews: 20000\n",
            "100 most frequent words:\n",
            "['the', 'and', 'a', 'of', 'to', 'is', 'it', 'in', 'i', 'this', 'that', 's', 'was', 'as', 'for', 'with', 'movie', 'but', 'film', 't', 'you', 'on', 'not', 'he', 'his', 'are', 'have', 'be', 'one', 'all', 'at', 'they', 'by', 'an', 'who', 'so', 'from', 'like', 'there', 'her', 'or', 'just', 'about', 'out', 'has', 'if', 'what', 'some', 'good', 'can', 'more', 'she', 'when', 'very', 'up', 'my', 'time', 'even', 'no', 'would', 'which', 'only', 'story', 'really', 'see', 'had', 'their', 'we', 'me', 'well', 'were', 'than', 'much', 'been', 'get', 'will', 'bad', 'people', 'also', 'other', 'do', 'great', 'because', 'into', 'first', 'how', 'him', 'don', 'most', 'made', 'way', 'its', 'then', 'make', 'them', 'could', 'too', 'movies', 'after', 'any']\n",
            "100 least frequent words:\n",
            "['korzeniowsky', 'oculist', 'luvs', 'cridits', 'elective', 'ericson', 'goldstone', 'biery', 'commentors', 'bombeshells', 'marenghi', 'darkplace', 'boosh', 'jermy', 'lazarou', 'baas', 'fijian', 'subaltern', 'repainting', 'regimens', 'netting', 'encircled', 'weathervane', 'filmstock', 'gorylicious', 'anethesia', 'vainglorious', 'popinjay', 'gaudier', 'napoleonic', 'rohleder', 'rotter', 'scorning', 'buttermilk', 'contingency', 'temptate', 'debyt', 'hypocritic', 'humanimal', 'bataille', 'everyplace', 'bandmates', 'gateways', 'unprocessed', 'denouements', 'cobern', 'emptying', 'garnished', 'zizte', 'cinematographicly', 'yeiks', 'holiness', 'cpr', 'regenerative', 'fda', 'pulses', 'breathnach', 'dissociate', 'planed', 'fickman', 'juha', 'kukkonen', 'heikkil', 'townie', 'overground', 'clinches', 'innocous', 'unconsumated', 'stablemate', 'enyoyed', 'softporn', 'nelli', 'eurosleaze', 'intimist', 'faggoty', 'grossout', 'electrolysis', 'slurp', 'phaoroh', 'toga', 'mobiles', 'yrds', 'cannabalistic', 'recrudescence', 'anticompetitive', 'degradable', 'steirs', 'unambitiously', 'comprehensibility', 'weedy', 'pivot', 'softies', 'goldies', 'birthmarks', 'dimentional', 'simplifying', 'obstruct', 'sita', 'shabana', 'azmi']\n",
            "--- Analysis of Reviews with Positive Sentiment ---\n",
            "Size of vocab: 50620\n",
            "Max review length count across all reviews: 2487\n",
            "Average review length count across all reviews: 240.76015127388536\n",
            "Number of total words across all reviews: 2419158\n",
            "Number of reviews: 10048\n",
            "100 most frequent words:\n",
            "['the', 'and', 'a', 'of', 'to', 'is', 'in', 'it', 'i', 'that', 'this', 's', 'as', 'with', 'for', 'was', 'film', 'but', 'movie', 'his', 'on', 'you', 'he', 'are', 'not', 't', 'one', 'have', 'be', 'by', 'all', 'who', 'at', 'an', 'from', 'her', 'they', 'has', 'so', 'like', 'about', 'very', 'out', 'there', 'or', 'she', 'what', 'good', 'more', 'when', 'some', 'if', 'just', 'can', 'story', 'my', 'time', 'great', 'well', 'up', 'which', 'their', 'see', 'also', 'really', 'we', 'would', 'me', 'will', 'had', 'only', 'him', 'even', 'other', 'most', 'than', 'first', 'were', 'much', 'no', 'into', 'its', 'people', 'get', 'love', 'best', 'how', 'been', 'life', 'because', 'way', 'do', 'films', 'made', 'after', 'them', 'many', 'two', 'too', 'think']\n",
            "100 least frequent words:\n",
            "['korzeniowsky', 'oculist', 'chucked', 'luvs', 'cridits', 'bombeshells', 'houseboat', 'stupifying', 'marenghi', 'darkplace', 'boosh', 'jermy', 'lazarou', 'barging', 'crones', 'regimens', 'naish', 'vainglorious', 'popinjay', 'gaudier', 'infallibility', 'napoleonic', 'buttermilk', 'contingency', 'temptate', 'debyt', 'hypocritic', 'humanimal', 'bataille', 'everyplace', 'ageless', 'malformed', 'gateways', 'plagiarism', 'unprocessed', 'taglines', 'denouements', 'cobern', 'emptying', 'gunpowder', 'holiness', 'leprechaun', 'cpr', 'regenerative', 'fda', 'pulses', 'juha', 'kukkonen', 'heikkil', 'clinches', 'innocous', 'ripple', 'superflous', 'unconsumated', 'stablemate', 'reissue', 'enyoyed', 'nook', 'cranny', 'intimist', 'oldish', 'recrudescence', 'brace', 'weakened', 'lanie', 'pacte', 'loups', 'unambitiously', 'vest', 'comprehensibility', 'spartans', 'jardyce', 'ladty', 'oly', 'atmosphereic', 'stalinist', 'iordache', 'coiffure', 'coeur', 'telefair', 'schiff', 'exhooker', 'implanting', 'stupefying', 'flapped', 'portabellow', 'lemons', 'escalation', 'whidbey', 'intergenerational', 'francesca', 'holdaway', 'lorens', 'machism', 'fanfilm', 'hellbreeder', 'succes', 'cheesey', 'culbertson', 'rusell']\n",
            "100 most frequent unique words:\n",
            "['edie', 'antwone', 'din', 'yokai', 'goldsworthy', 'gunga', 'gypo', 'brashear', 'feinstone', 'myrtle', 'blandings', 'harilal', 'dominick', 'khouri', 'hanzo', 'ae', 'panahi', 'kriemhild', 'mj', 'visconti', 'kells', 'bernsen', 'anchors', 'floriane', 'tsui', 'sammi', 'newcombe', 'aweigh', 'ossessione', 'sabu', 'blackie', 'ranma', 'kei', 'askey', 'ahmad', 'trelkovsky', 'gino', 'deathtrap', 'daisies', 'conroy', 'mcintire', 'caruso', 'jaffar', 'flavia', 'aiello', 'abhay', 'venezuela', 'pimlico', 'hilliard', 'kelso', 'katsu', 'ronny', 'pym', 'fineman', 'venoms', 'mukhsin', 'gabe', 'kipling', 'bathsheba', 'jannings', 'krell', 'fricker', 'ella', 'xica', 'milverton', 'ek', 'grisby', 'miklos', 'matuschek', 'maradona', 'fanfan', 'simba', 'reda', 'gauri', 'abbey', 'desdemona', 'jud', 'hagar', 'heaton', 'paine', 'scalise', 'godmother', 'soha', 'firemen', 'coe', 'coonskin', 'sheeta', 'pidgeon', 'matador', 'pinjar', 'siegfried', 'schlesinger', 'moonwalker', 'digicorp', 'hickok', 'bubba', 'pazu', 'kali', 'offside', 'leonora']\n",
            "100 least frequent unique words:\n",
            "['korzeniowsky', 'oculist', 'luvs', 'cridits', 'bombeshells', 'marenghi', 'darkplace', 'boosh', 'jermy', 'lazarou', 'regimens', 'vainglorious', 'popinjay', 'gaudier', 'napoleonic', 'buttermilk', 'contingency', 'temptate', 'debyt', 'hypocritic', 'humanimal', 'bataille', 'everyplace', 'gateways', 'unprocessed', 'denouements', 'cobern', 'emptying', 'holiness', 'cpr', 'regenerative', 'fda', 'pulses', 'juha', 'kukkonen', 'heikkil', 'clinches', 'innocous', 'unconsumated', 'stablemate', 'enyoyed', 'intimist', 'recrudescence', 'unambitiously', 'comprehensibility', 'jardyce', 'ladty', 'oly', 'atmosphereic', 'stalinist', 'iordache', 'coiffure', 'coeur', 'telefair', 'exhooker', 'implanting', 'flapped', 'portabellow', 'escalation', 'whidbey', 'holdaway', 'lorens', 'machism', 'fanfilm', 'hellbreeder', 'succes', 'culbertson', 'rusell', 'hiyao', 'kikki', 'pazo', 'thinked', 'pillory', 'sociologically', 'geeked', 'humanitas', 'surnow', 'haysbert', 'napping', 'foggier', 'mutia', 'yodeller', 'ambushing', 'eensy', 'weensy', 'britsih', 'winterly', 'goddamned', 'japanse', 'clit', 'baronland', 'lupton', 'cartels', 'pacifier', 'garmes', 'edina', 'grammy', 'gualtieri', 'scoffs', 'luncheonette']\n",
            "--- Analysis of Reviews with Negative Sentiment ---\n",
            "Size of vocab: 49058\n",
            "Max review length count across all reviews: 1539\n",
            "Average review length count across all reviews: 234.49899517684887\n",
            "Number of total words across all reviews: 2333734\n",
            "Number of reviews: 9952\n",
            "100 most frequent words:\n",
            "['the', 'a', 'and', 'of', 'to', 'is', 'it', 'i', 'in', 'this', 'that', 's', 'was', 'movie', 'for', 'but', 'with', 'as', 't', 'film', 'you', 'on', 'not', 'have', 'are', 'be', 'he', 'one', 'they', 'his', 'at', 'all', 'so', 'like', 'there', 'by', 'just', 'or', 'an', 'who', 'from', 'if', 'about', 'out', 'what', 'some', 'no', 'her', 'even', 'has', 'can', 'bad', 'good', 'would', 'up', 'only', 'more', 'when', 'she', 'time', 'really', 'had', 'my', 'were', 'which', 'very', 'me', 'see', 'we', 'don', 'do', 'than', 'their', 'been', 'story', 'much', 'get', 'because', 'people', 'could', 'make', 'how', 'then', 'any', 'into', 'made', 'well', 'first', 'other', 'them', 'too', 'plot', 'acting', 'movies', 'way', 'will', 'most', 'him', 'after', 'also']\n",
            "100 least frequent words:\n",
            "['apprehended', 'dawg', 'detonator', 'elective', 'ericson', 'goldstone', 'hyperkinetic', 'biery', 'zig', 'zag', 'stammers', 'cheshire', 'hingle', 'commentors', 'chopsticks', 'mavens', 'ohh', 'peppermint', 'baas', 'rotterdam', 'fijian', 'subaltern', 'repainting', 'precipitating', 'cluelessly', 'bolger', 'netting', 'encircled', 'weathervane', 'hoists', 'filmstock', 'gorylicious', 'anethesia', 'ized', 'rohleder', 'rotter', 'comings', 'scorning', 'bandmates', 'garnished', 'zizte', 'cinematographicly', 'yeiks', 'breathnach', 'dissociate', 'aways', 'goofing', 'planed', 'fickman', 'talbert', 'landry', 'townie', 'overground', 'softporn', 'christa', 'nelli', 'eurosleaze', 'faggoty', 'grossout', 'electrolysis', 'slurp', 'flaky', 'phaoroh', 'toga', 'mobiles', 'yrds', 'cannabalistic', 'economies', 'anticompetitive', 'degradable', 'steirs', 'weedy', 'pivot', 'softies', 'simons', 'goldies', 'defendant', 'birthmarks', 'laundrette', 'whacky', 'dimentional', 'simplifying', 'obstruct', 'sita', 'shabana', 'azmi', 'kats', 'grottos', 'formulmatic', 'sinny', 'paraguay', 'chaco', 'uninflected', 'lunches', 'yamashiro', 'honkin', 'polk', 'courtland', 'deserting', 'mps']\n",
            "100 most frequent unique words:\n",
            "['thunderbirds', 'tashan', 'slater', 'wayans', 'sarne', 'darkman', 'delia', 'welch', 'hobgoblins', 'zenia', 'kareena', 'hackenstein', 'deathstalker', 'kibbutz', 'saif', 'picker', 'shaq', 'savini', 'gram', 'berkowitz', 'palermo', 'lordi', 'chomsky', 'manos', 'morty', 'domergue', 'trancers', 'rochon', 'aag', 'interminable', 'coffy', 'cavemen', 'rosanna', 'plods', 'morvern', 'kazaam', 'btk', 'dunaway', 'stirba', 'dangerfield', 'dyer', 'sookie', 'orca', 'ramtha', 'reb', 'tremors', 'kornbluth', 'weisz', 'babban', 'leaden', 'gruner', 'dorff', 'advani', 'miya', 'louque', 'carnosaur', 'bla', 'hasselhoff', 'decapitation', 'visiteurs', 'raquel', 'richie', 'sibrel', 'purvis', 'thunderbird', 'wargames', 'pasteur', 'gammera', 'kat', 'labute', 'panzram', 'sade', 'beaton', 'nepotism', 'nikhil', 'triton', 'biehn', 'hayek', 'unisol', 'rajinikanth', 'crud', 'flashman', 'strummer', 'gymnast', 'munchie', 'mckenna', 'nisha', 'stigmata', 'yentl', 'bradbury', 'kharis', 'milius', 'dinocroc', 'schwartzman', 'flemming', 'completists', 'snooze', 'cohesion', 'eggar', 'lemercier']\n",
            "100 least frequent unique words:\n",
            "['elective', 'ericson', 'goldstone', 'biery', 'commentors', 'baas', 'fijian', 'subaltern', 'repainting', 'netting', 'encircled', 'weathervane', 'filmstock', 'gorylicious', 'anethesia', 'rohleder', 'rotter', 'scorning', 'bandmates', 'garnished', 'zizte', 'cinematographicly', 'yeiks', 'breathnach', 'dissociate', 'planed', 'fickman', 'townie', 'overground', 'softporn', 'nelli', 'eurosleaze', 'faggoty', 'grossout', 'electrolysis', 'slurp', 'phaoroh', 'toga', 'mobiles', 'yrds', 'cannabalistic', 'anticompetitive', 'degradable', 'steirs', 'weedy', 'pivot', 'softies', 'goldies', 'birthmarks', 'dimentional', 'simplifying', 'obstruct', 'sita', 'shabana', 'azmi', 'kats', 'grottos', 'formulmatic', 'sinny', 'chaco', 'uninflected', 'yamashiro', 'honkin', 'polk', 'mps', 'nop', 'sofas', 'anykind', 'yew', 'stapelton', 'hugues', 'anglade', 'zagros', 'zardkuh', 'irankian', 'ziba', 'ruskin', 'assemblage', 'legiunea', 'str', 'positivism', 'festivism', 'perniciously', 'negativism', 'ere', 'cursa', 'proba', 'microfon', 'toarea', 'vulpi', 'croaziera', 'glissando', 'mundi', 'futuramafan', 'unmemorably', 'ticketed', 'yugo', 'premiers', 'erruptions', 'ninos']\n"
          ]
        }
      ]
    },
    {
      "cell_type": "markdown",
      "source": [
        "# Models and methods\n",
        "\n",
        "We initially preprocessed the data to make it more friendly for feeding into the neural network. In addition, we also experimented with different types of word embeddings and network architectures and mixed implementations to compare how that would affect model perforrmance."
      ],
      "metadata": {
        "id": "HHS-tqjnzUXt"
      }
    },
    {
      "cell_type": "markdown",
      "source": [
        "## Preprocessing\n",
        "\n",
        "Now additionally applying removing stopwords and lemmatisation to review texts."
      ],
      "metadata": {
        "id": "CANS92hp2h5u"
      }
    },
    {
      "cell_type": "code",
      "source": [
        "X_train['ProcessedReview'] = X_train['review'].apply(lambda review: review_to_wordlist(review, remove_stopwords=True, lemmatise=True))\n",
        "X_test['ProcessedReview'] = X_test['review'].apply(lambda review: review_to_wordlist(review, remove_stopwords=True, lemmatise=True))"
      ],
      "metadata": {
        "id": "VBYVXozB2j2K"
      },
      "execution_count": null,
      "outputs": []
    },
    {
      "cell_type": "markdown",
      "source": [
        "## Word embeddings\n",
        "Code for our 4 word embedding methods.\n",
        "\n",
        "If the embeddings already exist, they are loaded in to save time. Otherwise, they are created from scratch and then saved.\n",
        "\n",
        "**Note: only one of the four below cells should be run during a given experiment, as they provide equivalent, interchangeable functionality.**\n"
      ],
      "metadata": {
        "id": "RBOf4XUVzjl7"
      }
    },
    {
      "cell_type": "markdown",
      "source": [
        "### Glove"
      ],
      "metadata": {
        "id": "ASuQEaMJ3G81"
      }
    },
    {
      "cell_type": "code",
      "source": [
        "EMBED_LEN = 300\n",
        "\n",
        "# import from torchtext\n",
        "global_vectors = None\n",
        "\n",
        "vocab_path = PATH + 'glove.840B.300d.pth'\n",
        "\n",
        "if os.path.exists(vocab_path):\n",
        "  global_vectors = torch.load(vocab_path)\n",
        "else:\n",
        "  global_vectors = GloVe(name='840B', dim=EMBED_LEN)\n",
        "  torch.save(global_vectors, vocab_path)\n",
        "\n",
        "# ReviewDataset class for processing pre-processed input text into GloVe embeddings to be input to the classification network\n",
        "class ReviewDataset(Dataset):\n",
        "  def __init__(self, reviews, sentiments):\n",
        "    # For each review, add filler (empty) strings to the list of tokenised words if it is shorter than MAX_REVIEW_LENGTH\n",
        "    padded_reviews = [tokens + [\"\"] * (MAX_REVIEW_LENGTH-len(tokens)) if len(tokens)<MAX_REVIEW_LENGTH else tokens[:MAX_REVIEW_LENGTH] for tokens in reviews]\n",
        "    reviews_tensor = torch.zeros(len(reviews), MAX_REVIEW_LENGTH, EMBED_LEN)\n",
        "\n",
        "    # Convert token list to list of word vectors\n",
        "    for i, tokens in enumerate(padded_reviews):\n",
        "        reviews_tensor[i] = global_vectors.get_vecs_by_tokens(tokens)\n",
        "    self.x = reviews_tensor\n",
        "\n",
        "    y_tensor = torch.tensor(sentiments.values, dtype=torch.float32)\n",
        "    self.y = y_tensor.reshape(y_tensor.shape[0], -1)\n",
        "\n",
        "  def __len__(self):\n",
        "    return len(self.y)\n",
        "  def __getitem__(self,idx):\n",
        "    return self.x[idx], self.y[idx]"
      ],
      "metadata": {
        "id": "BlB62ZXW3Rrw"
      },
      "execution_count": null,
      "outputs": []
    },
    {
      "cell_type": "markdown",
      "source": [
        "### Word2vec"
      ],
      "metadata": {
        "id": "567OJZT23Ift"
      }
    },
    {
      "cell_type": "code",
      "source": [
        "# import from torchtext\n",
        "global_vectors = None\n",
        "\n",
        "vocab_path = PATH + VOCAB_FILE\n",
        "\n",
        "if os.path.exists(vocab_path):\n",
        "  global_vectors = torch.load(vocab_path)\n",
        "else:\n",
        "  global_vectors = CharNGram()\n",
        "  torch.save(global_vectors, vocab_path)\n",
        "\n",
        "class ReviewDataset(Dataset):\n",
        "  def __init__(self, reviews, sentiments):\n",
        "    # For each review, add filler (empty) strings to the list of tokenised words if it is shorter than MAX_REVIEW_LENGTH\n",
        "    padded_reviews = [tokens + [\"\"] * (MAX_REVIEW_LENGTH-len(tokens)) if len(tokens)<MAX_REVIEW_LENGTH else tokens[:MAX_REVIEW_LENGTH] for tokens in reviews]\n",
        "    reviews_tensor = torch.zeros(len(reviews), MAX_REVIEW_LENGTH * EMBED_LEN)\n",
        "\n",
        "    # Convert token list to list of word vectors\n",
        "    for i, tokens in enumerate(padded_reviews):\n",
        "        reviews_tensor[i] = global_vectors.get_vecs_by_tokens(tokens).flatten()\n",
        "    self.x = reviews_tensor\n",
        "\n",
        "    y_tensor = torch.tensor(sentiments.values, dtype=torch.float32)\n",
        "    self.y = y_tensor.reshape(y_tensor.shape[0], -1)\n",
        "\n",
        "  def __len__(self):\n",
        "    return len(self.y)\n",
        "  def __getitem__(self,idx):\n",
        "    return self.x[idx], self.y[idx]"
      ],
      "metadata": {
        "id": "JxO_PVbc3QAv"
      },
      "execution_count": null,
      "outputs": []
    },
    {
      "cell_type": "markdown",
      "source": [
        "### Fasttext"
      ],
      "metadata": {
        "id": "Xy4_PQxY3IlL"
      }
    },
    {
      "cell_type": "code",
      "source": [
        "EMBED_LEN = 300\n",
        "\n",
        "VOCAB_FILE = 'ft.cc.en.300.bin'\n",
        "\n",
        "global_vectors = None\n",
        "\n",
        "vocab_path = PATH + VOCAB_FILE\n",
        "\n",
        "if os.path.exists(vocab_path):\n",
        "  global_vectors = torch.load(vocab_path)\n",
        "else:\n",
        "  global_vectors = FastText('simple')\n",
        "  torch.save(global_vectors, vocab_path)\n",
        "\n",
        "class ReviewDataset(Dataset):\n",
        "  def __init__(self, reviews, sentiments):\n",
        "    # For each review, add filler (empty) strings to the list of tokenised words if it is shorter than MAX_REVIEW_LENGTH\n",
        "    padded_reviews = [tokens + [\"\"] * (MAX_REVIEW_LENGTH-len(tokens)) if len(tokens)<MAX_REVIEW_LENGTH else tokens[:MAX_REVIEW_LENGTH] for tokens in reviews]\n",
        "    reviews_tensor = torch.zeros(len(reviews), MAX_REVIEW_LENGTH * EMBED_LEN)\n",
        "\n",
        "    # Convert token list to list of word vectors\n",
        "    for i, tokens in enumerate(padded_reviews):\n",
        "        reviews_tensor[i] = global_vectors.get_vecs_by_tokens(tokens).flatten()\n",
        "    self.x = reviews_tensor\n",
        "\n",
        "    y_tensor = torch.tensor(sentiments.values, dtype=torch.float32)\n",
        "    self.y = y_tensor.reshape(y_tensor.shape[0], -1)\n",
        "\n",
        "  def __len__(self):\n",
        "    return len(self.y)\n",
        "  def __getitem__(self,idx):\n",
        "    return self.x[idx], self.y[idx]"
      ],
      "metadata": {
        "id": "qLWKoe4D3PtX"
      },
      "execution_count": null,
      "outputs": []
    },
    {
      "cell_type": "markdown",
      "source": [
        "### BERT"
      ],
      "metadata": {
        "id": "sIeC1FD73OcL"
      }
    },
    {
      "cell_type": "code",
      "source": [
        "# Code referenced from Pytorch Docs: https://pytorch.org/hub/huggingface_pytorch-transformers/\n",
        "# Also referenced from: https://towardsdatascience.com/3-types-of-contextualized-word-embeddings-from-bert-using-transfer-learning-81fcefe3fe6d\n",
        "bert_tokeniser_path = PATH + 'BERT/tokeniser/'\n",
        "bert_path = PATH + 'BERT/model/'\n",
        "\n",
        "bert_tokeniser = None\n",
        "bert = None\n",
        "\n",
        "bert_tokeniser = torch.hub.load('huggingface/pytorch-transformers', 'tokenizer', 'bert-base-uncased')\n",
        "\n",
        "bert = BertModel.from_pretrained('bert-base-uncased', output_hidden_states = True,)\n",
        "\n",
        "def bert_tokenise(review_words):\n",
        "    # Tokeniser code derived from: https://towardsdatascience.com/3-types-of-contextualized-word-embeddings-from-bert-using-transfer-learning-81fcefe3fe6d\n",
        "    # Encode words using BERT tokeniser (BERT requires special tokenised input which includes start, end and separator tokens etc.)\n",
        "    tokens = bert_tokeniser.tokenize(' '.join(review_words),\n",
        "                                      truncation=True,              # Truncate token list to the specified max length\n",
        "                                      max_length=MAX_REVIEW_LENGTH, # Max length should be the specified max review length\n",
        "                                      add_special_tokens=True,      # Automatically insert special tokens required for BERT input\n",
        "                                      padding='max_length')         # Pad reviews which are shorter than the max length with empty tokens, to reach the max length\n",
        "    token_ids = bert_tokeniser.convert_tokens_to_ids(tokens)\n",
        "\n",
        "    return token_ids\n",
        "\n",
        "X_train['ProcessedReview'] = X_train['review'].apply(lambda words: bert_tokenise(words))\n",
        "\n",
        "# ReviewDataset class for processing BERT-tokenised input text into BERT embeddings to be input to the classification network\n",
        "class ReviewDataset(Dataset):\n",
        "  def __init__(self, reviews, sentiments):\n",
        "    # BERT code derived from: https://towardsdatascience.com/3-types-of-contextualized-word-embeddings-from-bert-using-transfer-learning-81fcefe3fe6d\n",
        "\n",
        "    # Convert token list to list of embeddings using BERT\n",
        "    segments_tensor = torch.tensor([[1]*MAX_REVIEW_LENGTH])\n",
        "\n",
        "    # BERT embedding batch size, may need to decrease this value to ~2000 if using free Colab tier\n",
        "    batch_size = 2500\n",
        "\n",
        "    states_tensor = torch.empty((0, MAX_REVIEW_LENGTH, EMBED_LEN), dtype=torch.int64)\n",
        "    num_batches = int(len(reviews) / batch_size)\n",
        "\n",
        "    print(\"Converting review dataframe to dataset...\")\n",
        "\n",
        "    # Split processing of BERT embeddings into several batches to avoid exceeding memory limits\n",
        "    with torch.no_grad():\n",
        "      for i in range(0, len(reviews), batch_size):\n",
        "        batch_num = int(i/batch_size) + 1\n",
        "        print(f\"Processing batch {batch_num}/{num_batches}...\")\n",
        "        batch = bert(torch.tensor(reviews.values[i : i + batch_size].tolist(), dtype=torch.int), segments_tensor)\n",
        "        # torch.save(batch[2][1:][-1], PATH + f\"BERT/embeddings/batch{batch_num}.pt\")\n",
        "        states_tensor = torch.cat([states_tensor, batch[2][1:][-1]])\n",
        "        print(f\"\\tFinished batch {batch_num}/{num_batches}!\")\n",
        "\n",
        "    print(\"Finished processing all batches!\")\n",
        "\n",
        "    self.x = states_tensor\n",
        "\n",
        "    y_tensor = torch.tensor(sentiments.values, dtype=torch.float32)\n",
        "    self.y = y_tensor.reshape(y_tensor.shape[0], -1)\n",
        "\n",
        "  def __len__(self):\n",
        "    return len(self.y)\n",
        "  def __getitem__(self,idx):\n",
        "    return self.x[idx], self.y[idx]"
      ],
      "metadata": {
        "id": "AXTe59Vqzpuo"
      },
      "execution_count": null,
      "outputs": []
    },
    {
      "cell_type": "markdown",
      "source": [
        "## Building the dataset loader\n",
        "\n",
        "This is used for combining a dataset and a sampler which provides a mechanism for iterating over the dataset."
      ],
      "metadata": {
        "id": "jyDllyLVnYgZ"
      }
    },
    {
      "cell_type": "code",
      "source": [
        "train_loader = DataLoader(ReviewDataset(X_train['ProcessedReview'], y_train), batch_size=BATCH_SIZE)\n",
        "test_loader  = DataLoader(ReviewDataset(X_test['ProcessedReview'], y_test), batch_size=BATCH_SIZE)"
      ],
      "metadata": {
        "id": "4pHQ4pnwvYOq"
      },
      "execution_count": null,
      "outputs": []
    },
    {
      "cell_type": "markdown",
      "source": [
        "## Neural network architectures\n",
        "\n",
        "We used four main architectures: Linear, LSTM, GRU and CNN. All architectures used a *Sequential* which is a container for chaining outputs to inputs from one module to the next. This allows the whole container to be treated as a single module.\n",
        "\n"
      ],
      "metadata": {
        "id": "wVYQCf9qzyHJ"
      }
    },
    {
      "cell_type": "markdown",
      "source": [
        "### Linear network architecture definition\n",
        "\n",
        "The linear network architecture was the simplest architecture used and was used as the baseline model which we would make improvements upon. It consisted of 3 fully connected hidden linear layers along with using ReLU as the activation function and Sigmoid as the final activation function. After hyptertuning, it was discovered the parameters which produced the highest accuracy were hidden unit sizes of 1000,5000 and 250."
      ],
      "metadata": {
        "id": "B3b2ev5j1nbI"
      }
    },
    {
      "cell_type": "code",
      "source": [
        "class EmbeddingClassifier(nn.Module):\n",
        "    def __init__(self):\n",
        "        super(EmbeddingClassifier, self).__init__()\n",
        "        self.seq = nn.Sequential(\n",
        "            nn.Linear(EMBED_LEN*MAX_REVIEW_LENGTH, 1000),\n",
        "            nn.ReLU(),\n",
        "\n",
        "            nn.Linear(1000,500),\n",
        "            nn.ReLU(),\n",
        "\n",
        "            nn.Linear(500,250),\n",
        "            nn.ReLU(),\n",
        "\n",
        "            nn.Linear(250, 1),\n",
        "            nn.Sigmoid()\n",
        "        )\n",
        "\n",
        "    def forward(self, X_batch):\n",
        "        return self.seq(X_batch)"
      ],
      "metadata": {
        "id": "Z2X6C2gA0PAK"
      },
      "execution_count": null,
      "outputs": []
    },
    {
      "cell_type": "markdown",
      "source": [
        "### LSTM and BiLSTM network architecture definition\n",
        "\n",
        "THe LSTM and Bi-LSTM are more complex architectures which were also used. The difference between the normal LSTM and Bi-LSTM is that the Bi-LSTM considers the review text in both the forwards and backwards directions.The LSTM imprvoes upno the normal RUNN architecture by being able too 'remember' features further in the past using its forget, input and output gates. Our approach was to take the word embeddings as input to the LSTM, feed each next word in the review as the input to subsequent cells, and retrieve the output of the final timestep to then be fed to a linear layer. After hypertuning, it was discovered that the best parameters for accuracy are 128 for the LSTM along with 2 linear layers with hidden unit sizes of 128 and 20 along with a dropout rate of 0.25 followed by 0.3 for the normal LSTM. The Bi-LSTM is similar but instead uses a hidden unit size of 256 instead of 128 for the linear layer."
      ],
      "metadata": {
        "id": "pSIw_e061J4F"
      }
    },
    {
      "cell_type": "code",
      "source": [
        "class extract_output_lstm(nn.Module):\n",
        "    def forward(self,x):\n",
        "        # Output shape (batch, max_review_length, hidden)\n",
        "        output, _ = x\n",
        "        return output[:, -1, :] # only want the output from last element in sequence\n",
        "\n",
        "class extract_output_bilstm(nn.Module):\n",
        "    def forward(self,x):\n",
        "        # Output shape (batch, max_review_length, hidden * 2)\n",
        "        output, _ = x\n",
        "        fw = output[:, -1, :] # forward pass final timestep\n",
        "        bw = output[:, 0, :] # backward pass final timestep\n",
        "        # Now remove the unwanted concat values of forward and backward pass\n",
        "        half = output.shape[2] // 2\n",
        "        fw = fw[:, 0:half] # remove the backward pass values\n",
        "        bw = bw[:, half:] # remove the forward pass values\n",
        "        return torch.cat((fw, bw), 1) # concat forward and backward pass final timestep values\n",
        "\n",
        "class LSTMClassifier(nn.Module):\n",
        "    def __init__(self):\n",
        "        super(LSTMClassifier, self).__init__()\n",
        "        lstm_hid_size = 128\n",
        "        self.seq = nn.Sequential(\n",
        "            #input size, hidden size (hyperparam), number of rnn layers to stack (hyperparam)\n",
        "            nn.LSTM(EMBED_LEN, lstm_hid_size, 1, bidirectional=False, batch_first=True),\n",
        "            extract_output_lstm(),\n",
        "\n",
        "            nn.Dropout(p=0.25),\n",
        "            nn.Linear(lstm_hid_size, 20),\n",
        "            nn.ReLU(),\n",
        "\n",
        "            nn.Dropout(p=0.3),\n",
        "            nn.Linear(20, 1),\n",
        "            nn.Sigmoid()\n",
        "        )\n",
        "\n",
        "    def forward(self, X_batch):\n",
        "        return self.seq(X_batch)\n",
        "\n",
        "class BiLSTMClassifier(nn.Module):\n",
        "    def __init__(self):\n",
        "        super(BiLSTMClassifier, self).__init__()\n",
        "        bilstm_hid_size = 128\n",
        "        self.seq = nn.Sequential(\n",
        "            #input size, hidden size (hyperparam), number of rnn layers to stack (hyperparam)\n",
        "            nn.LSTM(EMBED_LEN, bilstm_hid_size, 1, bidirectional=True, batch_first=True),\n",
        "            extract_output_bilstm(),\n",
        "\n",
        "            nn.Dropout(p=0.25),\n",
        "            nn.Linear(bilstm_hid_size * 2, 20),\n",
        "            nn.ReLU(),\n",
        "\n",
        "            nn.Dropout(p=0.3),\n",
        "            nn.Linear(20, 1),\n",
        "            nn.Sigmoid()\n",
        "        )\n",
        "\n",
        "    def forward(self, X_batch):\n",
        "        return self.seq(X_batch)"
      ],
      "metadata": {
        "id": "W7-IV8-50QgG"
      },
      "execution_count": null,
      "outputs": []
    },
    {
      "cell_type": "markdown",
      "source": [
        "### GRU network architecture definition\n",
        "\n",
        "The GRU can also be used to remember long-term dependencies but only utilises two gates (reset and update) compared to the LSTM's three gates.The architecture consisted of a GRU layer, followed by a fully connected linear layer and then the final output layer with a single node. After hypertuning, it was discovered that the best parameters for accuracy are 128 units in the GRU layer, 20 hidden units in the linear layer and 0.5 for the dropout."
      ],
      "metadata": {
        "id": "o3D8diJL1-hQ"
      }
    },
    {
      "cell_type": "code",
      "source": [
        "class extract_tensor(nn.Module):\n",
        "    def forward(self,x):\n",
        "        # Output shape (batch, features, hidden)\n",
        "        tensor, _ = x\n",
        "        return tensor[:, -1, :] # only want the output from last element in sequence\n",
        "\n",
        "class GRUClassifier(nn.Module):\n",
        "    def __init__(self):\n",
        "        super(GRUClassifier, self).__init__()\n",
        "        lstm_hid_size = 128\n",
        "        self.seq = nn.Sequential(\n",
        "            #input size, hidden size (hyperparam), number of rnn layers to stack (hyperparam)\n",
        "            nn.GRU(EMBED_LEN, lstm_hid_size, 1, bidirectional=False, batch_first=True),\n",
        "            extract_tensor(),\n",
        "\n",
        "            nn.Dropout(p=0.5),\n",
        "            nn.Linear(lstm_hid_size, 20),\n",
        "            nn.ReLU(),\n",
        "\n",
        "            nn.Dropout(p=0.2),\n",
        "            nn.Linear(20, 1),\n",
        "            nn.Sigmoid()\n",
        "        )\n",
        "\n",
        "    def forward(self, X_batch):\n",
        "        return self.seq(X_batch)"
      ],
      "metadata": {
        "id": "q4WYBVoToo2R"
      },
      "execution_count": null,
      "outputs": []
    },
    {
      "cell_type": "markdown",
      "source": [
        "### CNN network architecture definition#\n",
        "\n",
        "The final arhictecture used was the CNN. A review with a size of *word embedding length* by *review word length* is fed as the input, which imitates a 2D image but contains word embeddings instead of pixels. It consisted of a 2D convolutional layer, followed by a max pooling layer, a fully connected layer with dropout, and then the final output layer with one node. After hypertuning, the best parameters for accuracy were a filter size of 5, 10 filters, max pooling to be 2 and a dropout value of 0.3."
      ],
      "metadata": {
        "id": "QUY3x7hK2BvG"
      }
    },
    {
      "cell_type": "code",
      "source": [
        "class ConvNN(nn.Module):\n",
        "    def __init__(self):\n",
        "        super(ConvNN, self).__init__()\n",
        "\n",
        "        self.FILTER_SIZE = 5\n",
        "        self.NUMBER_FILTERS = 10\n",
        "        self.POOLING_SIZE = 2\n",
        "\n",
        "        self.convOps = torch.nn.Sequential(\n",
        "            torch.nn.Conv2d(in_channels=1, out_channels=self.NUMBER_FILTERS, kernel_size=self.FILTER_SIZE),\n",
        "            torch.nn.ReLU(),\n",
        "            torch.nn.MaxPool2d(kernel_size=self.POOLING_SIZE),\n",
        "            torch.nn.Flatten())\n",
        "\n",
        "        self.fullyconLayer = nn.Linear(108040, 1)\n",
        "        self.dropout = nn.Dropout(p=0.5)\n",
        "# groups=1, weight of size [101, 1, 4, 4], expected input[1, 50, 100, 300] to have 1 channels, but got 50 channels instead\n",
        "\n",
        "    def forward(self, X_batch):\n",
        "        X_batch = X_batch.unsqueeze(0)\n",
        "        x_permuted = X_batch.permute(1, 0, 2, 3)\n",
        "\n",
        "        conv = self.convOps(x_permuted)\n",
        "        #convFix = nn.Flatten(conv)\n",
        "\n",
        "        output_sum = self.fullyconLayer(conv)\n",
        "\n",
        "        out = torch.sigmoid(output_sum)\n",
        "\n",
        "        return out"
      ],
      "metadata": {
        "id": "2eAe3ozZopJ9"
      },
      "execution_count": null,
      "outputs": []
    },
    {
      "cell_type": "markdown",
      "source": [
        "## Model training and results\n",
        "\n",
        "After defining the network architecture, the model was then trained for the chosen number of epochs. Training loss, validation loss and accuracy are plotted to compare each model with accuracy being the ultimate tool for evaluating model evaluation.\n",
        "\n"
      ],
      "metadata": {
        "id": "6LoHQ6Ez43c_"
      }
    },
    {
      "cell_type": "markdown",
      "source": [
        "### Model training loop"
      ],
      "metadata": {
        "id": "ruruIXUS5CZy"
      }
    },
    {
      "cell_type": "code",
      "source": [
        "def CalcValLossAndAccuracy(model, loss_fn, val_loader, valid_losses, valid_accs, flatten=False):\n",
        "    with torch.no_grad():\n",
        "        Y_shuffled, Y_preds, losses = [],[],[]\n",
        "        for X, Y in val_loader:\n",
        "            # Need to flatten X for linear\n",
        "            if flatten:\n",
        "                X = torch.reshape(X, (X.shape[0], X.shape[1] * X.shape[2]))\n",
        "\n",
        "            X = X.to(device)\n",
        "            Y = Y.to(device)\n",
        "\n",
        "            preds = model(X)\n",
        "\n",
        "            loss = loss_fn(preds, Y)\n",
        "            losses.append(loss.item())\n",
        "\n",
        "            preds = (preds >= 0.5).float()\n",
        "\n",
        "            Y_shuffled.append(Y)\n",
        "\n",
        "            Y_preds.append(preds)\n",
        "\n",
        "        Y_shuffled = torch.cat(Y_shuffled)\n",
        "        Y_preds = torch.cat(Y_preds)\n",
        "\n",
        "        valid_loss = torch.tensor(losses).mean()\n",
        "        valid_acc = accuracy_score(Y_shuffled.detach().cpu().numpy(), Y_preds.detach().cpu().numpy())\n",
        "        valid_losses.append(valid_loss)\n",
        "        valid_accs.append(valid_acc)\n",
        "\n",
        "        print(\"Valid Loss : {:.3f}\".format(valid_loss))\n",
        "        print(\"Valid Acc  : {:.3f}\".format(valid_acc))\n",
        "\n",
        "\n",
        "def TrainModel(model, loss_fn, optimizer, train_loader, val_loader, valid_losses, valid_accs, train_losses, epochs=10, flatten=False):\n",
        "    for i in range(1, epochs+1):\n",
        "        losses = []\n",
        "        print('Epoch :', i)\n",
        "        for X, Y in tqdm(train_loader):\n",
        "            # Need to flatten X for linear\n",
        "            if flatten:\n",
        "                X = torch.reshape(X, (X.shape[0], X.shape[1] * X.shape[2]))\n",
        "\n",
        "            X = X.to(device)\n",
        "            Y = Y.to(device)\n",
        "\n",
        "            Y_preds = model(X)\n",
        "\n",
        "            loss = loss_fn(Y_preds, Y)\n",
        "            losses.append(loss.item())\n",
        "\n",
        "            optimizer.zero_grad()\n",
        "            loss.backward()\n",
        "            optimizer.step()\n",
        "\n",
        "        train_loss = torch.tensor(losses).mean()\n",
        "        train_losses.append(train_loss)\n",
        "\n",
        "        print(\"Train Loss : {:.3f}\".format(train_loss))\n",
        "        CalcValLossAndAccuracy(model, loss_fn, val_loader, valid_losses, valid_accs, flatten)\n",
        "\n",
        "def PlotOutput(values, y_label, epochs):\n",
        "    time = list(range(1,epochs + 1))\n",
        "    plt.plot(time,values)\n",
        "    plt.xlabel(\"Epochs\")\n",
        "    plt.ylabel(y_label)\n",
        "    plt.title(\"Comparing \" + y_label + \" over Time\")\n",
        "    # plt.savefig(y_label + \"_over_time_graph.png\")\n",
        "    plt.show()"
      ],
      "metadata": {
        "id": "amZE4WaY5D2B"
      },
      "execution_count": null,
      "outputs": []
    },
    {
      "cell_type": "markdown",
      "source": [
        "### Train Linear\n",
        "##### A classifier is created along with a loss function (binary cross entropy is chosen here) and an optimiser (Adam is chosen here). The model is then trained using the aforementioned tools."
      ],
      "metadata": {
        "id": "_fFNtM8w2QDB"
      }
    },
    {
      "cell_type": "code",
      "source": [
        "embed_classifier = EmbeddingClassifier()\n",
        "\n",
        "loss_fn = F.binary_cross_entropy\n",
        "optimizer = Adam(embed_classifier.parameters(), lr=1e-5)\n",
        "\n",
        "embed_classifier.to(device)\n",
        "\n",
        "linear_valid_losses = []\n",
        "linear_valid_accs = []\n",
        "linear_train_losses = []\n",
        "epochs = 10\n",
        "TrainModel(embed_classifier, loss_fn, optimizer, train_loader, test_loader, linear_valid_losses, linear_valid_accs, linear_train_losses, epochs, flatten=True)\n",
        "PlotOutput(linear_train_losses, 'Train Loss', epochs)\n",
        "PlotOutput(linear_valid_losses, \"Validation Loss\", epochs)\n",
        "PlotOutput(linear_valid_accs, \"Accuracy\", epochs)\n",
        "# torch.save(embed_classifier, PATH + 'models/linear.model')"
      ],
      "metadata": {
        "id": "eNEBg09Q2PaX",
        "colab": {
          "base_uri": "https://localhost:8080/",
          "height": 1000
        },
        "outputId": "21bbe727-ea93-4cef-e2c7-7a7ce2b87f50"
      },
      "execution_count": null,
      "outputs": [
        {
          "output_type": "stream",
          "name": "stdout",
          "text": [
            "Epoch : 1\n"
          ]
        },
        {
          "output_type": "stream",
          "name": "stderr",
          "text": [
            "100%|█████████████████████████████████████████████████| 313/313 [00:06<00:00, 47.24it/s]\n"
          ]
        },
        {
          "output_type": "stream",
          "name": "stdout",
          "text": [
            "Train Loss : 0.598\n",
            "Valid Loss : 0.465\n",
            "Valid Acc  : 0.800\n",
            "Epoch : 2\n"
          ]
        },
        {
          "output_type": "stream",
          "name": "stderr",
          "text": [
            "100%|█████████████████████████████████████████████████| 313/313 [00:05<00:00, 55.72it/s]\n"
          ]
        },
        {
          "output_type": "stream",
          "name": "stdout",
          "text": [
            "Train Loss : 0.365\n",
            "Valid Loss : 0.430\n",
            "Valid Acc  : 0.808\n",
            "Epoch : 3\n"
          ]
        },
        {
          "output_type": "stream",
          "name": "stderr",
          "text": [
            "100%|█████████████████████████████████████████████████| 313/313 [00:05<00:00, 56.64it/s]\n"
          ]
        },
        {
          "output_type": "stream",
          "name": "stdout",
          "text": [
            "Train Loss : 0.228\n",
            "Valid Loss : 0.486\n",
            "Valid Acc  : 0.802\n",
            "Epoch : 4\n"
          ]
        },
        {
          "output_type": "stream",
          "name": "stderr",
          "text": [
            "100%|█████████████████████████████████████████████████| 313/313 [00:05<00:00, 57.29it/s]\n"
          ]
        },
        {
          "output_type": "stream",
          "name": "stdout",
          "text": [
            "Train Loss : 0.126\n",
            "Valid Loss : 0.579\n",
            "Valid Acc  : 0.797\n",
            "Epoch : 5\n"
          ]
        },
        {
          "output_type": "stream",
          "name": "stderr",
          "text": [
            "100%|█████████████████████████████████████████████████| 313/313 [00:05<00:00, 52.54it/s]\n"
          ]
        },
        {
          "output_type": "stream",
          "name": "stdout",
          "text": [
            "Train Loss : 0.067\n",
            "Valid Loss : 0.624\n",
            "Valid Acc  : 0.792\n",
            "Epoch : 6\n"
          ]
        },
        {
          "output_type": "stream",
          "name": "stderr",
          "text": [
            "100%|█████████████████████████████████████████████████| 313/313 [00:05<00:00, 55.94it/s]\n"
          ]
        },
        {
          "output_type": "stream",
          "name": "stdout",
          "text": [
            "Train Loss : 0.039\n",
            "Valid Loss : 0.734\n",
            "Valid Acc  : 0.785\n",
            "Epoch : 7\n"
          ]
        },
        {
          "output_type": "stream",
          "name": "stderr",
          "text": [
            "100%|█████████████████████████████████████████████████| 313/313 [00:05<00:00, 56.60it/s]\n"
          ]
        },
        {
          "output_type": "stream",
          "name": "stdout",
          "text": [
            "Train Loss : 0.023\n",
            "Valid Loss : 0.771\n",
            "Valid Acc  : 0.791\n",
            "Epoch : 8\n"
          ]
        },
        {
          "output_type": "stream",
          "name": "stderr",
          "text": [
            "100%|█████████████████████████████████████████████████| 313/313 [00:05<00:00, 57.45it/s]\n"
          ]
        },
        {
          "output_type": "stream",
          "name": "stdout",
          "text": [
            "Train Loss : 0.013\n",
            "Valid Loss : 0.840\n",
            "Valid Acc  : 0.793\n",
            "Epoch : 9\n"
          ]
        },
        {
          "output_type": "stream",
          "name": "stderr",
          "text": [
            "100%|█████████████████████████████████████████████████| 313/313 [00:05<00:00, 57.20it/s]\n"
          ]
        },
        {
          "output_type": "stream",
          "name": "stdout",
          "text": [
            "Train Loss : 0.007\n",
            "Valid Loss : 0.892\n",
            "Valid Acc  : 0.795\n",
            "Epoch : 10\n"
          ]
        },
        {
          "output_type": "stream",
          "name": "stderr",
          "text": [
            "100%|█████████████████████████████████████████████████| 313/313 [00:05<00:00, 57.28it/s]\n"
          ]
        },
        {
          "output_type": "stream",
          "name": "stdout",
          "text": [
            "Train Loss : 0.004\n",
            "Valid Loss : 0.950\n",
            "Valid Acc  : 0.789\n"
          ]
        },
        {
          "output_type": "display_data",
          "data": {
            "text/plain": [
              "<Figure size 432x288 with 1 Axes>"
            ],
            "image/png": "[encoded data removed]"
          },
          "metadata": {
            "needs_background": "light"
          }
        },
        {
          "output_type": "display_data",
          "data": {
            "text/plain": [
              "<Figure size 432x288 with 1 Axes>"
            ],
            "image/png": "[encoded data removed]"
          },
          "metadata": {
            "needs_background": "light"
          }
        },
        {
          "output_type": "display_data",
          "data": {
            "text/plain": [
              "<Figure size 432x288 with 1 Axes>"
            ],
            "image/png": "[encoded data removed]"
          },
          "metadata": {
            "needs_background": "light"
          }
        }
      ]
    },
    {
      "cell_type": "markdown",
      "source": [
        "### Train LSTM"
      ],
      "metadata": {
        "id": "UQayxmI009Zt"
      }
    },
    {
      "cell_type": "code",
      "source": [
        "lstm_classifier = LSTMClassifier()\n",
        "\n",
        "loss_fn = F.binary_cross_entropy\n",
        "optimizer = Adam(lstm_classifier.parameters(), lr=1e-3)\n",
        "\n",
        "lstm_classifier.to(device)\n",
        "\n",
        "lstm_valid_losses = []\n",
        "lstm_valid_accs = []\n",
        "lstm_train_losses = []\n",
        "epochs = 25\n",
        "TrainModel(lstm_classifier, loss_fn, optimizer, train_loader, test_loader, lstm_valid_losses, lstm_valid_accs, lstm_train_losses, epochs)\n",
        "PlotOutput(lstm_train_losses, 'Train Loss', epochs)\n",
        "PlotOutput(lstm_valid_losses, \"Validation Loss\", epochs)\n",
        "PlotOutput(lstm_valid_accs, \"Accuracy\", epochs)\n",
        "# torch.save(lstm_classifier, PATH + 'models/lstm.model')"
      ],
      "metadata": {
        "id": "i3L5EqHS0v9V",
        "colab": {
          "base_uri": "https://localhost:8080/"
        },
        "outputId": "b4dce396-b5d2-49a0-b050-22299bd1cc0d"
      },
      "execution_count": null,
      "outputs": [
        {
          "output_type": "stream",
          "name": "stdout",
          "text": [
            "Epoch : 1\n"
          ]
        },
        {
          "output_type": "stream",
          "name": "stderr",
          "text": [
            "100%|█████████████████████████████████████████████████| 313/313 [00:04<00:00, 73.43it/s]\n"
          ]
        },
        {
          "output_type": "stream",
          "name": "stdout",
          "text": [
            "Train Loss : 0.691\n",
            "Valid Loss : 0.695\n",
            "Valid Acc  : 0.490\n",
            "Epoch : 2\n"
          ]
        },
        {
          "output_type": "stream",
          "name": "stderr",
          "text": [
            "100%|█████████████████████████████████████████████████| 313/313 [00:03<00:00, 84.39it/s]\n"
          ]
        },
        {
          "output_type": "stream",
          "name": "stdout",
          "text": [
            "Train Loss : 0.693\n",
            "Valid Loss : 0.694\n",
            "Valid Acc  : 0.490\n",
            "Epoch : 3\n"
          ]
        },
        {
          "output_type": "stream",
          "name": "stderr",
          "text": [
            "100%|█████████████████████████████████████████████████| 313/313 [00:03<00:00, 87.14it/s]\n"
          ]
        },
        {
          "output_type": "stream",
          "name": "stdout",
          "text": [
            "Train Loss : 0.693\n",
            "Valid Loss : 0.693\n",
            "Valid Acc  : 0.505\n",
            "Epoch : 4\n"
          ]
        },
        {
          "output_type": "stream",
          "name": "stderr",
          "text": [
            "100%|█████████████████████████████████████████████████| 313/313 [00:03<00:00, 83.28it/s]\n"
          ]
        },
        {
          "output_type": "stream",
          "name": "stdout",
          "text": [
            "Train Loss : 0.693\n",
            "Valid Loss : 0.691\n",
            "Valid Acc  : 0.517\n",
            "Epoch : 5\n"
          ]
        },
        {
          "output_type": "stream",
          "name": "stderr",
          "text": [
            "100%|█████████████████████████████████████████████████| 313/313 [00:03<00:00, 83.69it/s]\n"
          ]
        },
        {
          "output_type": "stream",
          "name": "stdout",
          "text": [
            "Train Loss : 0.631\n",
            "Valid Loss : 0.604\n",
            "Valid Acc  : 0.673\n",
            "Epoch : 6\n"
          ]
        },
        {
          "output_type": "stream",
          "name": "stderr",
          "text": [
            "100%|█████████████████████████████████████████████████| 313/313 [00:03<00:00, 80.77it/s]\n"
          ]
        },
        {
          "output_type": "stream",
          "name": "stdout",
          "text": [
            "Train Loss : 0.632\n",
            "Valid Loss : 0.687\n",
            "Valid Acc  : 0.533\n",
            "Epoch : 7\n"
          ]
        },
        {
          "output_type": "stream",
          "name": "stderr",
          "text": [
            "100%|█████████████████████████████████████████████████| 313/313 [00:04<00:00, 77.26it/s]\n"
          ]
        },
        {
          "output_type": "stream",
          "name": "stdout",
          "text": [
            "Train Loss : 0.650\n",
            "Valid Loss : 0.585\n",
            "Valid Acc  : 0.776\n",
            "Epoch : 8\n"
          ]
        },
        {
          "output_type": "stream",
          "name": "stderr",
          "text": [
            "100%|█████████████████████████████████████████████████| 313/313 [00:03<00:00, 82.99it/s]\n"
          ]
        },
        {
          "output_type": "stream",
          "name": "stdout",
          "text": [
            "Train Loss : 0.602\n",
            "Valid Loss : 0.626\n",
            "Valid Acc  : 0.635\n",
            "Epoch : 9\n"
          ]
        },
        {
          "output_type": "stream",
          "name": "stderr",
          "text": [
            "100%|█████████████████████████████████████████████████| 313/313 [00:03<00:00, 88.09it/s]\n"
          ]
        },
        {
          "output_type": "stream",
          "name": "stdout",
          "text": [
            "Train Loss : 0.573\n",
            "Valid Loss : 0.509\n",
            "Valid Acc  : 0.785\n",
            "Epoch : 10\n"
          ]
        },
        {
          "output_type": "stream",
          "name": "stderr",
          "text": [
            "100%|█████████████████████████████████████████████████| 313/313 [00:03<00:00, 84.96it/s]\n"
          ]
        },
        {
          "output_type": "stream",
          "name": "stdout",
          "text": [
            "Train Loss : 0.609\n",
            "Valid Loss : 0.651\n",
            "Valid Acc  : 0.566\n",
            "Epoch : 11\n"
          ]
        },
        {
          "output_type": "stream",
          "name": "stderr",
          "text": [
            "100%|█████████████████████████████████████████████████| 313/313 [00:03<00:00, 83.73it/s]\n"
          ]
        },
        {
          "output_type": "stream",
          "name": "stdout",
          "text": [
            "Train Loss : 0.505\n",
            "Valid Loss : 0.477\n",
            "Valid Acc  : 0.811\n",
            "Epoch : 12\n"
          ]
        },
        {
          "output_type": "stream",
          "name": "stderr",
          "text": [
            "100%|█████████████████████████████████████████████████| 313/313 [00:03<00:00, 87.24it/s]\n"
          ]
        },
        {
          "output_type": "stream",
          "name": "stdout",
          "text": [
            "Train Loss : 0.460\n",
            "Valid Loss : 0.442\n",
            "Valid Acc  : 0.839\n",
            "Epoch : 13\n"
          ]
        },
        {
          "output_type": "stream",
          "name": "stderr",
          "text": [
            "100%|█████████████████████████████████████████████████| 313/313 [00:03<00:00, 82.76it/s]\n"
          ]
        },
        {
          "output_type": "stream",
          "name": "stdout",
          "text": [
            "Train Loss : 0.567\n",
            "Valid Loss : 0.465\n",
            "Valid Acc  : 0.806\n",
            "Epoch : 14\n"
          ]
        },
        {
          "output_type": "stream",
          "name": "stderr",
          "text": [
            "100%|█████████████████████████████████████████████████| 313/313 [00:03<00:00, 79.87it/s]\n"
          ]
        },
        {
          "output_type": "stream",
          "name": "stdout",
          "text": [
            "Train Loss : 0.435\n",
            "Valid Loss : 0.406\n",
            "Valid Acc  : 0.834\n",
            "Epoch : 15\n"
          ]
        },
        {
          "output_type": "stream",
          "name": "stderr",
          "text": [
            "100%|█████████████████████████████████████████████████| 313/313 [00:03<00:00, 83.33it/s]\n"
          ]
        },
        {
          "output_type": "stream",
          "name": "stdout",
          "text": [
            "Train Loss : 0.376\n",
            "Valid Loss : 0.366\n",
            "Valid Acc  : 0.853\n",
            "Epoch : 16\n"
          ]
        },
        {
          "output_type": "stream",
          "name": "stderr",
          "text": [
            "100%|█████████████████████████████████████████████████| 313/313 [00:04<00:00, 71.62it/s]\n"
          ]
        },
        {
          "output_type": "stream",
          "name": "stdout",
          "text": [
            "Train Loss : 0.341\n",
            "Valid Loss : 0.363\n",
            "Valid Acc  : 0.855\n",
            "Epoch : 17\n"
          ]
        },
        {
          "output_type": "stream",
          "name": "stderr",
          "text": [
            "100%|█████████████████████████████████████████████████| 313/313 [00:03<00:00, 85.38it/s]\n"
          ]
        },
        {
          "output_type": "stream",
          "name": "stdout",
          "text": [
            "Train Loss : 0.322\n",
            "Valid Loss : 0.372\n",
            "Valid Acc  : 0.858\n",
            "Epoch : 18\n"
          ]
        },
        {
          "output_type": "stream",
          "name": "stderr",
          "text": [
            "100%|█████████████████████████████████████████████████| 313/313 [00:04<00:00, 69.51it/s]\n"
          ]
        },
        {
          "output_type": "stream",
          "name": "stdout",
          "text": [
            "Train Loss : 0.303\n",
            "Valid Loss : 0.353\n",
            "Valid Acc  : 0.859\n",
            "Epoch : 19\n"
          ]
        },
        {
          "output_type": "stream",
          "name": "stderr",
          "text": [
            "100%|█████████████████████████████████████████████████| 313/313 [00:04<00:00, 71.57it/s]\n"
          ]
        },
        {
          "output_type": "stream",
          "name": "stdout",
          "text": [
            "Train Loss : 0.269\n",
            "Valid Loss : 0.358\n",
            "Valid Acc  : 0.862\n",
            "Epoch : 20\n"
          ]
        },
        {
          "output_type": "stream",
          "name": "stderr",
          "text": [
            "100%|█████████████████████████████████████████████████| 313/313 [00:04<00:00, 72.72it/s]\n"
          ]
        },
        {
          "output_type": "stream",
          "name": "stdout",
          "text": [
            "Train Loss : 0.237\n",
            "Valid Loss : 0.378\n",
            "Valid Acc  : 0.858\n",
            "Epoch : 21\n"
          ]
        },
        {
          "output_type": "stream",
          "name": "stderr",
          "text": [
            "100%|█████████████████████████████████████████████████| 313/313 [00:03<00:00, 78.88it/s]\n"
          ]
        },
        {
          "output_type": "stream",
          "name": "stdout",
          "text": [
            "Train Loss : 0.209\n",
            "Valid Loss : 0.391\n",
            "Valid Acc  : 0.854\n",
            "Epoch : 22\n"
          ]
        },
        {
          "output_type": "stream",
          "name": "stderr",
          "text": [
            "100%|█████████████████████████████████████████████████| 313/313 [00:03<00:00, 84.12it/s]\n"
          ]
        },
        {
          "output_type": "stream",
          "name": "stdout",
          "text": [
            "Train Loss : 0.187\n",
            "Valid Loss : 0.436\n",
            "Valid Acc  : 0.847\n",
            "Epoch : 23\n"
          ]
        },
        {
          "output_type": "stream",
          "name": "stderr",
          "text": [
            "100%|█████████████████████████████████████████████████| 313/313 [00:03<00:00, 91.71it/s]\n"
          ]
        },
        {
          "output_type": "stream",
          "name": "stdout",
          "text": [
            "Train Loss : 0.172\n",
            "Valid Loss : 0.423\n",
            "Valid Acc  : 0.856\n",
            "Epoch : 24\n"
          ]
        },
        {
          "output_type": "stream",
          "name": "stderr",
          "text": [
            "100%|█████████████████████████████████████████████████| 313/313 [00:03<00:00, 78.88it/s]\n"
          ]
        },
        {
          "output_type": "stream",
          "name": "stdout",
          "text": [
            "Train Loss : 0.147\n",
            "Valid Loss : 0.453\n",
            "Valid Acc  : 0.856\n",
            "Epoch : 25\n"
          ]
        },
        {
          "output_type": "stream",
          "name": "stderr",
          "text": [
            "100%|█████████████████████████████████████████████████| 313/313 [00:04<00:00, 73.42it/s]\n"
          ]
        },
        {
          "output_type": "stream",
          "name": "stdout",
          "text": [
            "Train Loss : 0.125\n",
            "Valid Loss : 0.501\n",
            "Valid Acc  : 0.857\n"
          ]
        },
        {
          "output_type": "display_data",
          "data": {
            "text/plain": [
              "<Figure size 432x288 with 1 Axes>"
            ],
            "image/png": "[encoded data removed]"
          },
          "metadata": {
            "needs_background": "light"
          }
        },
        {
          "output_type": "display_data",
          "data": {
            "text/plain": [
              "<Figure size 432x288 with 1 Axes>"
            ],
            "image/png": "[encoded data removed]"
          },
          "metadata": {
            "needs_background": "light"
          }
        },
        {
          "output_type": "display_data",
          "data": {
            "text/plain": [
              "<Figure size 432x288 with 1 Axes>"
            ],
            "image/png": "[encoded data removed]"
          },
          "metadata": {
            "needs_background": "light"
          }
        }
      ]
    },
    {
      "cell_type": "markdown",
      "source": [
        "### Train Bi-LSTM"
      ],
      "metadata": {
        "id": "7kaiVAXG07Sm"
      }
    },
    {
      "cell_type": "code",
      "source": [
        "bilstm_classifier = BiLSTMClassifier()\n",
        "\n",
        "loss_fn = F.binary_cross_entropy\n",
        "optimizer = Adam(bilstm_classifier.parameters(), lr=1e-3)\n",
        "\n",
        "bilstm_classifier.to(device)\n",
        "\n",
        "bilstm_valid_losses = []\n",
        "bilstm_valid_accs = []\n",
        "bilstm_train_losses = []\n",
        "epochs = 10\n",
        "TrainModel(bilstm_classifier, loss_fn, optimizer, train_loader, test_loader, bilstm_valid_losses, bilstm_valid_accs, bilstm_train_losses, epochs)\n",
        "PlotOutput(bilstm_train_losses, 'Train Loss', epochs)\n",
        "PlotOutput(bilstm_valid_losses, \"Validation Loss\", epochs)\n",
        "PlotOutput(bilstm_valid_accs, \"Accuracy\", epochs)\n",
        "# torch.save(bilstm_classifier, PATH + 'models/bilstm.model')"
      ],
      "metadata": {
        "id": "3vf9Dn_m0w0g",
        "colab": {
          "base_uri": "https://localhost:8080/",
          "height": 1000
        },
        "outputId": "c1c3a6fc-28fc-4e36-b295-231c50f6f33c"
      },
      "execution_count": null,
      "outputs": [
        {
          "output_type": "stream",
          "name": "stdout",
          "text": [
            "Epoch : 1\n"
          ]
        },
        {
          "output_type": "stream",
          "name": "stderr",
          "text": [
            "100%|█████████████████████████████████████████████████| 313/313 [00:04<00:00, 64.78it/s]\n"
          ]
        },
        {
          "output_type": "stream",
          "name": "stdout",
          "text": [
            "Train Loss : 0.589\n",
            "Valid Loss : 0.455\n",
            "Valid Acc  : 0.810\n",
            "Epoch : 2\n"
          ]
        },
        {
          "output_type": "stream",
          "name": "stderr",
          "text": [
            "100%|█████████████████████████████████████████████████| 313/313 [00:05<00:00, 62.51it/s]\n"
          ]
        },
        {
          "output_type": "stream",
          "name": "stdout",
          "text": [
            "Train Loss : 0.430\n",
            "Valid Loss : 0.385\n",
            "Valid Acc  : 0.840\n",
            "Epoch : 3\n"
          ]
        },
        {
          "output_type": "stream",
          "name": "stderr",
          "text": [
            "100%|█████████████████████████████████████████████████| 313/313 [00:04<00:00, 68.44it/s]\n"
          ]
        },
        {
          "output_type": "stream",
          "name": "stdout",
          "text": [
            "Train Loss : 0.372\n",
            "Valid Loss : 0.352\n",
            "Valid Acc  : 0.856\n",
            "Epoch : 4\n"
          ]
        },
        {
          "output_type": "stream",
          "name": "stderr",
          "text": [
            "100%|█████████████████████████████████████████████████| 313/313 [00:04<00:00, 67.21it/s]\n"
          ]
        },
        {
          "output_type": "stream",
          "name": "stdout",
          "text": [
            "Train Loss : 0.341\n",
            "Valid Loss : 0.358\n",
            "Valid Acc  : 0.853\n",
            "Epoch : 5\n"
          ]
        },
        {
          "output_type": "stream",
          "name": "stderr",
          "text": [
            "100%|█████████████████████████████████████████████████| 313/313 [00:04<00:00, 64.71it/s]\n"
          ]
        },
        {
          "output_type": "stream",
          "name": "stdout",
          "text": [
            "Train Loss : 0.309\n",
            "Valid Loss : 0.351\n",
            "Valid Acc  : 0.865\n",
            "Epoch : 6\n"
          ]
        },
        {
          "output_type": "stream",
          "name": "stderr",
          "text": [
            "100%|█████████████████████████████████████████████████| 313/313 [00:04<00:00, 63.08it/s]\n"
          ]
        },
        {
          "output_type": "stream",
          "name": "stdout",
          "text": [
            "Train Loss : 0.279\n",
            "Valid Loss : 0.373\n",
            "Valid Acc  : 0.860\n",
            "Epoch : 7\n"
          ]
        },
        {
          "output_type": "stream",
          "name": "stderr",
          "text": [
            "100%|█████████████████████████████████████████████████| 313/313 [00:05<00:00, 58.92it/s]\n"
          ]
        },
        {
          "output_type": "stream",
          "name": "stdout",
          "text": [
            "Train Loss : 0.250\n",
            "Valid Loss : 0.394\n",
            "Valid Acc  : 0.831\n",
            "Epoch : 8\n"
          ]
        },
        {
          "output_type": "stream",
          "name": "stderr",
          "text": [
            "100%|█████████████████████████████████████████████████| 313/313 [00:04<00:00, 73.15it/s]\n"
          ]
        },
        {
          "output_type": "stream",
          "name": "stdout",
          "text": [
            "Train Loss : 0.217\n",
            "Valid Loss : 0.422\n",
            "Valid Acc  : 0.864\n",
            "Epoch : 9\n"
          ]
        },
        {
          "output_type": "stream",
          "name": "stderr",
          "text": [
            "100%|█████████████████████████████████████████████████| 313/313 [00:04<00:00, 71.31it/s]\n"
          ]
        },
        {
          "output_type": "stream",
          "name": "stdout",
          "text": [
            "Train Loss : 0.201\n",
            "Valid Loss : 0.406\n",
            "Valid Acc  : 0.866\n",
            "Epoch : 10\n"
          ]
        },
        {
          "output_type": "stream",
          "name": "stderr",
          "text": [
            "100%|█████████████████████████████████████████████████| 313/313 [00:04<00:00, 75.11it/s]\n"
          ]
        },
        {
          "output_type": "stream",
          "name": "stdout",
          "text": [
            "Train Loss : 0.170\n",
            "Valid Loss : 0.512\n",
            "Valid Acc  : 0.828\n"
          ]
        },
        {
          "output_type": "display_data",
          "data": {
            "text/plain": [
              "<Figure size 432x288 with 1 Axes>"
            ],
            "image/png": "[encoded data removed]"
          },
          "metadata": {
            "needs_background": "light"
          }
        },
        {
          "output_type": "display_data",
          "data": {
            "text/plain": [
              "<Figure size 432x288 with 1 Axes>"
            ],
            "image/png": "[encoded data removed]"
          },
          "metadata": {
            "needs_background": "light"
          }
        },
        {
          "output_type": "display_data",
          "data": {
            "text/plain": [
              "<Figure size 432x288 with 1 Axes>"
            ],
            "image/png": "[encoded data removed]"
          },
          "metadata": {
            "needs_background": "light"
          }
        }
      ]
    },
    {
      "cell_type": "markdown",
      "source": [
        "### Train GRU"
      ],
      "metadata": {
        "id": "0AGNqtrs3dMj"
      }
    },
    {
      "cell_type": "code",
      "source": [
        "gru_classifier = GRUClassifier()\n",
        "\n",
        "loss_fn = F.binary_cross_entropy\n",
        "optimizer = Adam(gru_classifier.parameters(), lr=1e-3)\n",
        "\n",
        "gru_classifier.to(device)\n",
        "\n",
        "gru_valid_losses = []\n",
        "gru_valid_accs = []\n",
        "gru_train_losses = []\n",
        "epochs = 10\n",
        "TrainModel(gru_classifier, loss_fn, optimizer, train_loader, test_loader, gru_valid_losses, gru_valid_accs, gru_train_losses, epochs)\n",
        "PlotOutput(gru_train_losses, 'Train Loss', epochs)\n",
        "PlotOutput(gru_valid_losses, \"Validation Loss\", epochs)\n",
        "PlotOutput(gru_valid_accs, \"Accuracy\", epochs)\n"
      ],
      "metadata": {
        "id": "sSaE-sTM3hds",
        "colab": {
          "base_uri": "https://localhost:8080/",
          "height": 1000
        },
        "outputId": "8e43ee49-c69f-4e8a-9430-cebebf2e0084"
      },
      "execution_count": null,
      "outputs": [
        {
          "output_type": "stream",
          "name": "stdout",
          "text": [
            "Epoch : 1\n"
          ]
        },
        {
          "output_type": "stream",
          "name": "stderr",
          "text": [
            "100%|█████████████████████████████████████████████████| 313/313 [00:03<00:00, 84.20it/s]\n"
          ]
        },
        {
          "output_type": "stream",
          "name": "stdout",
          "text": [
            "Train Loss : 0.657\n",
            "Valid Loss : 0.621\n",
            "Valid Acc  : 0.665\n",
            "Epoch : 2\n"
          ]
        },
        {
          "output_type": "stream",
          "name": "stderr",
          "text": [
            "100%|█████████████████████████████████████████████████| 313/313 [00:03<00:00, 84.76it/s]\n"
          ]
        },
        {
          "output_type": "stream",
          "name": "stdout",
          "text": [
            "Train Loss : 0.640\n",
            "Valid Loss : 0.622\n",
            "Valid Acc  : 0.669\n",
            "Epoch : 3\n"
          ]
        },
        {
          "output_type": "stream",
          "name": "stderr",
          "text": [
            "100%|█████████████████████████████████████████████████| 313/313 [00:04<00:00, 64.32it/s]\n"
          ]
        },
        {
          "output_type": "stream",
          "name": "stdout",
          "text": [
            "Train Loss : 0.679\n",
            "Valid Loss : 0.688\n",
            "Valid Acc  : 0.525\n",
            "Epoch : 4\n"
          ]
        },
        {
          "output_type": "stream",
          "name": "stderr",
          "text": [
            "100%|█████████████████████████████████████████████████| 313/313 [00:03<00:00, 90.57it/s]\n"
          ]
        },
        {
          "output_type": "stream",
          "name": "stdout",
          "text": [
            "Train Loss : 0.598\n",
            "Valid Loss : 0.418\n",
            "Valid Acc  : 0.836\n",
            "Epoch : 5\n"
          ]
        },
        {
          "output_type": "stream",
          "name": "stderr",
          "text": [
            "100%|█████████████████████████████████████████████████| 313/313 [00:03<00:00, 84.69it/s]\n"
          ]
        },
        {
          "output_type": "stream",
          "name": "stdout",
          "text": [
            "Train Loss : 0.387\n",
            "Valid Loss : 0.353\n",
            "Valid Acc  : 0.858\n",
            "Epoch : 6\n"
          ]
        },
        {
          "output_type": "stream",
          "name": "stderr",
          "text": [
            "100%|█████████████████████████████████████████████████| 313/313 [00:03<00:00, 91.07it/s]\n"
          ]
        },
        {
          "output_type": "stream",
          "name": "stdout",
          "text": [
            "Train Loss : 0.333\n",
            "Valid Loss : 0.343\n",
            "Valid Acc  : 0.862\n",
            "Epoch : 7\n"
          ]
        },
        {
          "output_type": "stream",
          "name": "stderr",
          "text": [
            "100%|█████████████████████████████████████████████████| 313/313 [00:03<00:00, 82.39it/s]\n"
          ]
        },
        {
          "output_type": "stream",
          "name": "stdout",
          "text": [
            "Train Loss : 0.304\n",
            "Valid Loss : 0.333\n",
            "Valid Acc  : 0.865\n",
            "Epoch : 8\n"
          ]
        },
        {
          "output_type": "stream",
          "name": "stderr",
          "text": [
            "100%|█████████████████████████████████████████████████| 313/313 [00:03<00:00, 83.82it/s]\n"
          ]
        },
        {
          "output_type": "stream",
          "name": "stdout",
          "text": [
            "Train Loss : 0.275\n",
            "Valid Loss : 0.367\n",
            "Valid Acc  : 0.856\n",
            "Epoch : 9\n"
          ]
        },
        {
          "output_type": "stream",
          "name": "stderr",
          "text": [
            "100%|█████████████████████████████████████████████████| 313/313 [00:03<00:00, 88.74it/s]\n"
          ]
        },
        {
          "output_type": "stream",
          "name": "stdout",
          "text": [
            "Train Loss : 0.246\n",
            "Valid Loss : 0.336\n",
            "Valid Acc  : 0.871\n",
            "Epoch : 10\n"
          ]
        },
        {
          "output_type": "stream",
          "name": "stderr",
          "text": [
            "100%|█████████████████████████████████████████████████| 313/313 [00:03<00:00, 93.27it/s]\n"
          ]
        },
        {
          "output_type": "stream",
          "name": "stdout",
          "text": [
            "Train Loss : 0.216\n",
            "Valid Loss : 0.358\n",
            "Valid Acc  : 0.874\n"
          ]
        },
        {
          "output_type": "display_data",
          "data": {
            "text/plain": [
              "<Figure size 432x288 with 1 Axes>"
            ],
            "image/png": "[encoded data removed]"
          },
          "metadata": {
            "needs_background": "light"
          }
        },
        {
          "output_type": "display_data",
          "data": {
            "text/plain": [
              "<Figure size 432x288 with 1 Axes>"
            ],
            "image/png": "[encoded data removed]"
          },
          "metadata": {
            "needs_background": "light"
          }
        },
        {
          "output_type": "display_data",
          "data": {
            "text/plain": [
              "<Figure size 432x288 with 1 Axes>"
            ],
            "image/png": "[encoded data removed]"
          },
          "metadata": {
            "needs_background": "light"
          }
        }
      ]
    },
    {
      "cell_type": "markdown",
      "source": [
        "### Train CNN"
      ],
      "metadata": {
        "id": "IIufLt7e3e-6"
      }
    },
    {
      "cell_type": "code",
      "source": [
        "cnn_classifier = ConvNN()\n",
        "\n",
        "loss_fn = F.binary_cross_entropy\n",
        "optimizer = Adam(cnn_classifier.parameters(), lr=1e-4)\n",
        "\n",
        "cnn_classifier.to(device)\n",
        "\n",
        "cnn_valid_losses = []\n",
        "cnn_valid_accs = []\n",
        "cnn_train_losses = []\n",
        "epochs = 10\n",
        "TrainModel(cnn_classifier, loss_fn, optimizer, train_loader, test_loader, cnn_valid_losses, cnn_valid_accs, cnn_train_losses, epochs=10)\n",
        "PlotOutput(cnn_train_losses, 'Train Loss', epochs)\n",
        "PlotOutput(cnn_valid_losses, \"Validation Loss\", epochs)\n",
        "PlotOutput(cnn_valid_accs, \"Accuracy\", epochs)\n"
      ],
      "metadata": {
        "id": "VO79yacv3hEF",
        "colab": {
          "base_uri": "https://localhost:8080/",
          "height": 1000
        },
        "outputId": "859bf5a0-bf09-4c3a-f613-0634d3b77ecb"
      },
      "execution_count": null,
      "outputs": [
        {
          "output_type": "stream",
          "name": "stdout",
          "text": [
            "Epoch : 1\n"
          ]
        },
        {
          "output_type": "stream",
          "name": "stderr",
          "text": [
            "100%|█████████████████████████████████████████████████| 313/313 [00:05<00:00, 55.82it/s]\n"
          ]
        },
        {
          "output_type": "stream",
          "name": "stdout",
          "text": [
            "Train Loss : 0.630\n",
            "Valid Loss : 0.543\n",
            "Valid Acc  : 0.773\n",
            "Epoch : 2\n"
          ]
        },
        {
          "output_type": "stream",
          "name": "stderr",
          "text": [
            "100%|█████████████████████████████████████████████████| 313/313 [00:04<00:00, 62.90it/s]\n"
          ]
        },
        {
          "output_type": "stream",
          "name": "stdout",
          "text": [
            "Train Loss : 0.500\n",
            "Valid Loss : 0.470\n",
            "Valid Acc  : 0.797\n",
            "Epoch : 3\n"
          ]
        },
        {
          "output_type": "stream",
          "name": "stderr",
          "text": [
            "100%|█████████████████████████████████████████████████| 313/313 [00:03<00:00, 85.47it/s]\n"
          ]
        },
        {
          "output_type": "stream",
          "name": "stdout",
          "text": [
            "Train Loss : 0.433\n",
            "Valid Loss : 0.445\n",
            "Valid Acc  : 0.799\n",
            "Epoch : 4\n"
          ]
        },
        {
          "output_type": "stream",
          "name": "stderr",
          "text": [
            "100%|█████████████████████████████████████████████████| 313/313 [00:04<00:00, 73.77it/s]\n"
          ]
        },
        {
          "output_type": "stream",
          "name": "stdout",
          "text": [
            "Train Loss : 0.391\n",
            "Valid Loss : 0.435\n",
            "Valid Acc  : 0.800\n",
            "Epoch : 5\n"
          ]
        },
        {
          "output_type": "stream",
          "name": "stderr",
          "text": [
            "100%|█████████████████████████████████████████████████| 313/313 [00:03<00:00, 83.16it/s]\n"
          ]
        },
        {
          "output_type": "stream",
          "name": "stdout",
          "text": [
            "Train Loss : 0.359\n",
            "Valid Loss : 0.429\n",
            "Valid Acc  : 0.803\n",
            "Epoch : 6\n"
          ]
        },
        {
          "output_type": "stream",
          "name": "stderr",
          "text": [
            "100%|█████████████████████████████████████████████████| 313/313 [00:03<00:00, 79.49it/s]\n"
          ]
        },
        {
          "output_type": "stream",
          "name": "stdout",
          "text": [
            "Train Loss : 0.332\n",
            "Valid Loss : 0.426\n",
            "Valid Acc  : 0.806\n",
            "Epoch : 7\n"
          ]
        },
        {
          "output_type": "stream",
          "name": "stderr",
          "text": [
            "100%|█████████████████████████████████████████████████| 313/313 [00:03<00:00, 79.06it/s]\n"
          ]
        },
        {
          "output_type": "stream",
          "name": "stdout",
          "text": [
            "Train Loss : 0.308\n",
            "Valid Loss : 0.424\n",
            "Valid Acc  : 0.809\n",
            "Epoch : 8\n"
          ]
        },
        {
          "output_type": "stream",
          "name": "stderr",
          "text": [
            "100%|█████████████████████████████████████████████████| 313/313 [00:04<00:00, 77.86it/s]\n"
          ]
        },
        {
          "output_type": "stream",
          "name": "stdout",
          "text": [
            "Train Loss : 0.287\n",
            "Valid Loss : 0.424\n",
            "Valid Acc  : 0.810\n",
            "Epoch : 9\n"
          ]
        },
        {
          "output_type": "stream",
          "name": "stderr",
          "text": [
            "100%|█████████████████████████████████████████████████| 313/313 [00:03<00:00, 79.87it/s]\n"
          ]
        },
        {
          "output_type": "stream",
          "name": "stdout",
          "text": [
            "Train Loss : 0.267\n",
            "Valid Loss : 0.424\n",
            "Valid Acc  : 0.810\n",
            "Epoch : 10\n"
          ]
        },
        {
          "output_type": "stream",
          "name": "stderr",
          "text": [
            "100%|█████████████████████████████████████████████████| 313/313 [00:03<00:00, 85.50it/s]\n"
          ]
        },
        {
          "output_type": "stream",
          "name": "stdout",
          "text": [
            "Train Loss : 0.249\n",
            "Valid Loss : 0.426\n",
            "Valid Acc  : 0.811\n"
          ]
        },
        {
          "output_type": "display_data",
          "data": {
            "text/plain": [
              "<Figure size 432x288 with 1 Axes>"
            ],
            "image/png": "[encoded data removed]"
          },
          "metadata": {
            "needs_background": "light"
          }
        },
        {
          "output_type": "display_data",
          "data": {
            "text/plain": [
              "<Figure size 432x288 with 1 Axes>"
            ],
            "image/png": "[encoded data removed]"
          },
          "metadata": {
            "needs_background": "light"
          }
        },
        {
          "output_type": "display_data",
          "data": {
            "text/plain": [
              "<Figure size 432x288 with 1 Axes>"
            ],
            "image/png": "[encoded data removed]"
          },
          "metadata": {
            "needs_background": "light"
          }
        }
      ]
    },
    {
      "cell_type": "markdown",
      "source": [
        "# Discussion\n",
        "\n",
        "The accuracy levels for each of the word embeddings and models are compared to determine which word embeddings and model produced the highest accuracy. In addition, an analysis of the actual outputs along with any possible errors are also made.\n",
        "\n",
        "*   **Strengths**\n",
        "  The GRU-based system reached a peak trained validation accuracy of 87.7%, with similar performance (86.88%) realised when submitted to Kaggle and tested against the hidden test data, meaning that it is quite robust when given input on which it was not trained. Given the wide variation in the content of reviews within the dataset, this should indicate that the network would be effective at analysing reviews in a live context, wherein it is tasked with analysing the sentiment of newly submitted user-reviews on the IMDb site.\n",
        "*  **Weaknesses**\n",
        "  Since the system's pre-processing steps include removing stopwords, words which are key to the sentiment of the review may unintentionally be omitted. This might include converting: \"This movie is not great\" to \"movie great\", which may cause the network to misinterpret the sentiment of the original text. Our models also tended to overfit a bit too.\n",
        "\n",
        "*   **Limitations**\n",
        "  Whilst using Google Colab provided an easy platform for sharing and running code within the browser, there was a limit on the maximum RAM available, resulting in us to reduce the review length which reduced our accuracy as accuracy improves with a larger review length. In addition, GPU availability was also quite limited which significantly increased training time. Finally, other Kaggle submissions also utilised additional data compared to what we used. As a result, our maximum accuracy cap is lower than those submissions.\n",
        "\n",
        "*   **Possible Future Work**\n",
        "With additional time for experimentation, the team could optimise the GRU network hyperparameters to fully realise the performance benefits of the BERT-generated embeddings, since it is believed that the project time-constraints prevented the GRU network from being optimally tuned to use these embeddings. Further recommendations for future work include the application of the network to reviews from other sources, such as those for retail products, music or books, as well as the prediction of other review metrics such as their associated numerical score.\n",
        "\n",
        "\n",
        "\n",
        "\n",
        "\n"
      ],
      "metadata": {
        "id": "EVRWjnCL02zu"
      }
    },
    {
      "cell_type": "markdown",
      "source": [
        "## Word embeddings comparison\n",
        "\n",
        "As there are many word embeddings available, we decided to experiment to see how they would affect the performance of the model. GloVe was chosen as the final word embedding as it produced the highest accuracy after experimentation and hypertuning.   \n",
        "\n",
        "On a side note, while the performance of the tested networks using BERT embeddings failed to exceed that of networks using GloVe, it is believed that this is a result of an inability to sufficiently tune the BERT-embedding networks within the project timeframe. The BERT embeddings were of length 768, as compared to those generated by GloVe, which were of length 300. This discrepancy meant that networks which had originally been tuned for GloVe needed to be re-tuned for a significantly larger embedding size, and hence optimal performance using BERT embeddings may not have been realised during testing.\n",
        "\n"
      ],
      "metadata": {
        "id": "RzbHdWDI2ucQ"
      }
    },
    {
      "cell_type": "markdown",
      "source": [
        "## Model performance comparison"
      ],
      "metadata": {
        "id": "U04zxyeWsIFe"
      }
    },
    {
      "cell_type": "code",
      "source": [
        "model_performance = []\n",
        "model_performance.append(['Linear', max(linear_valid_accs)])\n",
        "model_performance.append(['LSTM', max(lstm_valid_accs)])\n",
        "model_performance.append(['BiLSTM', max(bilstm_valid_accs)])\n",
        "model_performance.append(['GRU', max(gru_valid_accs)])\n",
        "model_performance.append(['CNN', max(cnn_valid_accs)])\n",
        "model_performance_df = pd.DataFrame(model_performance, columns=[\"Model\", \"Accuracy\"])\n",
        "\n",
        "display(HTML(model_performance_df.to_html(index=False)))"
      ],
      "metadata": {
        "colab": {
          "base_uri": "https://localhost:8080/",
          "height": 206
        },
        "id": "t-X5hzcLvVdB",
        "outputId": "4da0e0ce-b592-4fd3-e5ee-8beba4a0941e"
      },
      "execution_count": null,
      "outputs": [
        {
          "output_type": "display_data",
          "data": {
            "text/plain": [
              "<IPython.core.display.HTML object>"
            ],
            "text/html": [
              "<table border=\"1\" class=\"dataframe\">\n",
              "  <thead>\n",
              "    <tr style=\"text-align: right;\">\n",
              "      <th>Model</th>\n",
              "      <th>Accuracy</th>\n",
              "    </tr>\n",
              "  </thead>\n",
              "  <tbody>\n",
              "    <tr>\n",
              "      <td>Linear</td>\n",
              "      <td>0.8080</td>\n",
              "    </tr>\n",
              "    <tr>\n",
              "      <td>LSTM</td>\n",
              "      <td>0.8620</td>\n",
              "    </tr>\n",
              "    <tr>\n",
              "      <td>BiLSTM</td>\n",
              "      <td>0.8656</td>\n",
              "    </tr>\n",
              "    <tr>\n",
              "      <td>GRU</td>\n",
              "      <td>0.8738</td>\n",
              "    </tr>\n",
              "    <tr>\n",
              "      <td>CNN</td>\n",
              "      <td>0.8114</td>\n",
              "    </tr>\n",
              "  </tbody>\n",
              "</table>"
            ]
          },
          "metadata": {}
        }
      ]
    },
    {
      "cell_type": "markdown",
      "source": [
        "## Error analysis (comparison of linear and LSTM results)\n",
        "\n",
        "Attempt to identify trends or patterns in how these models are classifying data."
      ],
      "metadata": {
        "id": "OM-mY9Ct5VQr"
      }
    },
    {
      "cell_type": "markdown",
      "source": [
        "Prepare subset of whole dataset for comparison"
      ],
      "metadata": {
        "id": "vCSCyjJp7SKo"
      }
    },
    {
      "cell_type": "code",
      "source": [
        "shortLabeledTrainData = labeledTrainData.head(1000)\n",
        "\n",
        "shortLabeledTrainData['ProcessedReview'] = shortLabeledTrainData['review'].apply(lambda review: review_to_wordlist(review, remove_stopwords=True, lemmatise=True))\n",
        "\n",
        "def convert(reviews, sentiments):\n",
        "    # For each review, add filler (empty) strings to the list of tokenised words if it is shorter than MAX_REVIEW_LENGTH\n",
        "    padded_reviews = [tokens + [\"\"] * (MAX_REVIEW_LENGTH-len(tokens)) if len(tokens)<MAX_REVIEW_LENGTH else tokens[:MAX_REVIEW_LENGTH] for tokens in reviews]\n",
        "    reviews_tensor = torch.zeros(len(reviews), MAX_REVIEW_LENGTH, EMBED_LEN)\n",
        "\n",
        "    # Convert token list to list of word vectors\n",
        "    for i, tokens in enumerate(padded_reviews):\n",
        "        reviews_tensor[i] = global_vectors.get_vecs_by_tokens(tokens)\n",
        "    x = reviews_tensor\n",
        "\n",
        "    y_tensor = torch.tensor(sentiments.values, dtype=torch.float32)\n",
        "    y = y_tensor.reshape(y_tensor.shape[0], -1)\n",
        "\n",
        "    return x, y\n",
        "\n",
        "short_X, short_Y = convert(shortLabeledTrainData['ProcessedReview'], shortLabeledTrainData['sentiment'])\n",
        "\n",
        "short_Y = pd.Series(short_Y.detach().numpy().squeeze())\n",
        "\n",
        "flattened_short_X = torch.reshape(short_X, (short_X.shape[0], short_X.shape[1] * short_X.shape[2]))\n",
        "\n",
        "embed_classifier.to('cpu')\n",
        "lstm_classifier.to('cpu')\n",
        "\n",
        "linear_results = pd.Series(embed_classifier(flattened_short_X).detach().numpy().squeeze())\n",
        "linear_results = (linear_results >= 0.5).astype(float)\n",
        "\n",
        "lstm_results = pd.Series(lstm_classifier(short_X).detach().numpy().squeeze())\n",
        "lstm_results = (lstm_results >= 0.5).astype(float)\n",
        "\n",
        "embed_classifier.to(device)\n",
        "lstm_classifier.to(device)"
      ],
      "metadata": {
        "id": "25fzYA6k4d2X",
        "colab": {
          "base_uri": "https://localhost:8080/"
        },
        "outputId": "1a990d0b-6b70-4fac-f8f8-d86108447ae6"
      },
      "execution_count": null,
      "outputs": [
        {
          "output_type": "stream",
          "name": "stderr",
          "text": [
            "C:\\Users\\erich\\anaconda3\\envs\\yolov7\\lib\\site-packages\\bs4\\__init__.py:435: MarkupResemblesLocatorWarning: The input looks more like a filename than markup. You may want to open this file and pass the filehandle into Beautiful Soup.\n",
            "  warnings.warn(\n",
            "C:\\Users\\erich\\AppData\\Local\\Temp\\ipykernel_32788\\2234206415.py:3: SettingWithCopyWarning: \n",
            "A value is trying to be set on a copy of a slice from a DataFrame.\n",
            "Try using .loc[row_indexer,col_indexer] = value instead\n",
            "\n",
            "See the caveats in the documentation: https://pandas.pydata.org/pandas-docs/stable/user_guide/indexing.html#returning-a-view-versus-a-copy\n",
            "  shortLabeledTrainData['ProcessedReview'] = shortLabeledTrainData['review'].apply(lambda review: review_to_wordlist(review, remove_stopwords=True, lemmatise=True))\n"
          ]
        },
        {
          "output_type": "execute_result",
          "data": {
            "text/plain": [
              "LSTMClassifier(\n",
              "  (seq): Sequential(\n",
              "    (0): LSTM(300, 128, batch_first=True)\n",
              "    (1): extract_output_lstm()\n",
              "    (2): Dropout(p=0.25, inplace=False)\n",
              "    (3): Linear(in_features=128, out_features=20, bias=True)\n",
              "    (4): ReLU()\n",
              "    (5): Dropout(p=0.3, inplace=False)\n",
              "    (6): Linear(in_features=20, out_features=1, bias=True)\n",
              "    (7): Sigmoid()\n",
              "  )\n",
              ")"
            ]
          },
          "metadata": {},
          "execution_count": 60
        }
      ]
    },
    {
      "cell_type": "markdown",
      "source": [
        "Both LSTM and Linear wrong"
      ],
      "metadata": {
        "id": "yJvHDN2P6Qq_"
      }
    },
    {
      "cell_type": "code",
      "source": [
        "count = 0\n",
        "\n",
        "for i in range(len(short_X)):\n",
        "    if count > 3:\n",
        "        break\n",
        "    if linear_results[i].item() != short_Y[i].item() and lstm_results[i].item() != short_Y[i].item():\n",
        "        print('---------------')\n",
        "        print('linear:', 'Positive' if linear_results[i].item() == 1 else 'Negative')\n",
        "        print('lstm:', 'Positive' if lstm_results[i].item() == 1 else 'Negative')\n",
        "        print('true:', 'Positive' if short_Y[i].item() == 1 else 'Negative')\n",
        "        print(textwrap.fill(BeautifulSoup(shortLabeledTrainData['review'][i]).get_text(), 100))\n",
        "        count += 1"
      ],
      "metadata": {
        "id": "3W6IqGoT6r6w",
        "colab": {
          "base_uri": "https://localhost:8080/"
        },
        "outputId": "80364208-6086-429d-e18c-383a9dc56974"
      },
      "execution_count": null,
      "outputs": [
        {
          "output_type": "stream",
          "name": "stdout",
          "text": [
            "---------------\n",
            "linear: Negative\n",
            "lstm: Negative\n",
            "true: Positive\n",
            "\"Superbly trashy and wondrously unpretentious 80's exploitation, hooray! The pre-credits opening\n",
            "sequences somewhat give the false impression that we're dealing with a serious and harrowing drama,\n",
            "but you need not fear because barely ten minutes later we're up until our necks in nonsensical\n",
            "chainsaw battles, rough fist-fights, lurid dialogs and gratuitous nudity! Bo and Ingrid are two\n",
            "orphaned siblings with an unusually close and even slightly perverted relationship. Can you imagine\n",
            "playfully ripping off the towel that covers your sister's naked body and then stare at her unshaven\n",
            "genitals for several whole minutes? Well, Bo does that to his sister and, judging by her dubbed\n",
            "laughter, she doesn't mind at all. Sick, dude! Anyway, as kids they fled from Russia with their\n",
            "parents, but nasty soldiers brutally slaughtered mommy and daddy. A friendly smuggler took custody\n",
            "over them, however, and even raised and trained Bo and Ingrid into expert smugglers. When the actual\n",
            "plot lifts off, 20 years later, they're facing their ultimate quest as the mythical and incredibly\n",
            "valuable White Fire diamond is coincidentally found in a mine. Very few things in life ever made as\n",
            "little sense as the plot and narrative structure of \\\"White Fire\\\", but it sure is a lot of fun to\n",
            "watch. Most of the time you have no clue who's beating up who or for what cause (and I bet the\n",
            "actors understood even less) but whatever! The violence is magnificently grotesque and every single\n",
            "plot twist is pleasingly retarded. The script goes totally bonkers beyond repair when suddenly  and\n",
            "I won't reveal for what reason  Bo needs a replacement for Ingrid and Fred Williamson enters the\n",
            "scene with a big cigar in his mouth and his sleazy black fingers all over the local prostitutes.\n",
            "Bo's principal opponent is an Italian chick with big breasts but a hideous accent, the preposterous\n",
            "but catchy theme song plays at least a dozen times throughout the film, there's the obligatory\n",
            "\\\"we're-falling-in-love\\\" montage and loads of other attractions! My God, what a brilliant\n",
            "experience. The original French title translates itself as \\\"Life to Survive\\\", which is uniquely\n",
            "appropriate because it makes just as much sense as the rest of the movie: None!\"\n",
            "---------------\n",
            "linear: Positive\n",
            "lstm: Positive\n",
            "true: Negative\n",
            "\"I have been a huge Lynn Peterson fan ever since her breakthrough role in the 1988 blockbuster movie\n",
            "\\\"Far North\\\", and even though I loved her in her one other film \\\"Slow\\\" (2004) where she plays\n",
            "\\\"Francis\\\", this is by far and away her strongest role.Lynn, as I'm sure you all know (or should),\n",
            "plays the critical role of \\\"Driver\\\".Unfortunately, other than Lynn's amazing performance, I'm\n",
            "afraid this movie doesn't really have much going for it.Oh wait - there was one other thing - the\n",
            "amazing creativity of the editing to remove profanity for TV viewers. Memorable lines like: \\\"You\n",
            "son-of-a-gun!\\\", \\\"You son-of-a-witch!\\\", \\\"Shoot!\\\", and \\\"Well, Forget You!\\\"O.K. Bye.P.S.: Does\n",
            "anyone know where I can get another Lynn Peterson poster?\"\n",
            "---------------\n",
            "linear: Negative\n",
            "lstm: Negative\n",
            "true: Positive\n",
            "\"This is not Bela Lagosi's best movie, but it's got a good old style approach for some 40's horror\n",
            "entertainment.Brides are dropping dead at the altar like flies. I think I'd postpone the wedding\n",
            "until after the fiend is caught, but it's a horror movie, so I guess people ignore the danger for\n",
            "some reason. Anyway, Lagosi is a mad doctor, who needs young female blood to keep his aging, sickly\n",
            "wife healthy and happy. He always eludes the Keystone Cops by hiding the bodies in a hearse (who\n",
            "would think of looking for a corpse in a hearse?), and the brides just keep on getting zapped.No\n",
            "movie like this would be complete without a Lois Lane type female reporter who wants to catch the\n",
            "criminal on her own. Good at solving crime, bad at keeping her mouth shut at all the wrong times,\n",
            "guess who Lagosi picks for his next intended victim. I love the \\\"haunted house\\\" bit where Lois\n",
            "Lane gets stranded by a thunderstorm as a guest at Lagosi's sinister mansion. Hidden passageways, a\n",
            "vampire-like wife, an evil dwarf Igor assistant, and so on. Good stuff.Fairly well done pacing keeps\n",
            "the film moving, and the story resolves itself in a typical but satisfying manner. If you like old\n",
            "horror movies, this one is worth a watch.\"\n",
            "---------------\n",
            "linear: Positive\n",
            "lstm: Positive\n",
            "true: Negative\n",
            "\"Generally over rated movie which boasts a strong cast and some clever dialog and of course Dean\n",
            "Martin songs. Problem is Nicholas Cage, there is no chemistry between he and Cher and they are the\n",
            "central love story. Cher almost makes up for this with her reactions to Cage's shifting accent and\n",
            "out of control body language. Cage simply never settles into his role. He tries everything he can\n",
            "think of and comes across as an actor rather than real person and that's what's needed in a love\n",
            "story. Cage has had these same kind of performance problems in other roles that require more of a\n",
            "Jimmy Stewart type character. Cage keeps taking these roles, perhaps because he likes those kind of\n",
            "movies but his own energy as an actor doesn't lend itself to them, though he's gotten better at it\n",
            "with repeated attempts. He should leave these type of roles to less interesting actors who would\n",
            "fully commit to the film and spend his energy and considerable talent in more off beat roles and\n",
            "films where he can be his crazy interesting self.\"\n"
          ]
        }
      ]
    },
    {
      "cell_type": "markdown",
      "source": [
        "LSTM right but Linear wrong"
      ],
      "metadata": {
        "id": "y7ag5DzI62YR"
      }
    },
    {
      "cell_type": "code",
      "source": [
        "count = 0\n",
        "\n",
        "for i in range(len(short_X)):\n",
        "    if count > 3:\n",
        "        break\n",
        "    if linear_results[i].item() != short_Y[i].item() and lstm_results[i].item() == short_Y[i].item():\n",
        "        print('---------------')\n",
        "        print('linear:', 'Positive' if linear_results[i].item() == 1 else 'Negative')\n",
        "        print('lstm:', 'Positive' if lstm_results[i].item() == 1 else 'Negative')\n",
        "        print('true:', 'Positive' if short_Y[i].item() == 1 else 'Negative')\n",
        "        print(textwrap.fill(BeautifulSoup(shortLabeledTrainData['review'][i]).get_text(), 100))\n",
        "        count += 1"
      ],
      "metadata": {
        "id": "9m68hItP633z",
        "colab": {
          "base_uri": "https://localhost:8080/"
        },
        "outputId": "eb8cf4e0-d7b9-47c9-fe0f-effcfb171e35"
      },
      "execution_count": null,
      "outputs": [
        {
          "output_type": "stream",
          "name": "stdout",
          "text": [
            "---------------\n",
            "linear: Negative\n",
            "lstm: Positive\n",
            "true: Positive\n",
            "\"Simon Pegg plays a rude crude and often out of control celebrity journalist who is brought from\n",
            "England to work for a big American magazine. Of course his winning ways create all sorts of\n",
            "complications. Amusing fact based comedy that co stars Kristen Dunst (looking rather grown up),\n",
            "Danny Huston, and Jeff Bridges. It works primarily because we like Simon Pegg despite his bad\n",
            "behavior. We completely understand why Kristen Dunst continues to talk to him despite his frequent\n",
            "screw ups. I liked the film. Its not the be all and end all but it was a nice way to cap off an\n",
            "evening of sitting on the couch watching movies.7 out of 10\"\n",
            "---------------\n",
            "linear: Negative\n",
            "lstm: Positive\n",
            "true: Positive\n",
            "\"WARNING: POSSIBLE SPOILERS (but not really - keep reading). Ahhh, there are so many reasons to\n",
            "become utterly addicted to this spoof gem that I won't have room to list them all. The opening\n",
            "credits set the playful scene with kitsch late 1950s cartoon stills; an enchanting Peres 'Prez'\n",
            "Prado mambo theme which appears to be curiously uncredited (but his grunts are unmistakable, and no-\n",
            "one else did them); and with familiar cast names, including Kathy Najimi a full year before she hit\n",
            "with Sister Acts 1 & 2 plus Teri Hatcher from TV's Superman.Every scene is imbued with shallow\n",
            "injustices flung at various actors, actresses and producers in daytime TV. Peeking behind the\n",
            "careers of these people is all just an excuse for an old-fashioned, delicious farce. Robert Harling\n",
            "penned this riotous spoof that plays like an issue of MAD Magazine, but feels like a gift to us in\n",
            "the audience. Some of the cliched characters are a bit dim, but everyone is drizzling with high\n",
            "jealousy, especially against Celeste Talbert (Sally Field) who is the show's perennial award-winning\n",
            "lead, nicknamed \\\"America's Sweetheart\\\". The daytime Emmies-like awards opening does introduce us\n",
            "to Celeste's show, The Sun Also Sets. Against all vain fears to the contrary, Celeste wins again.\n",
            "She is overjoyed, because it's always \\\"such a genuine thrill\\\": \\\"Adam, did you watch? I won! Well,\n",
            "nguh...\\\" The reason for Adam's absence soon becomes the justification for the entire plot, and\n",
            "we're instantly off on a trip with Celeste's neuroses. She cries, screeches, and wrings her hands\n",
            "though the rest of the movie while her dresser Tawnee (Kathy Najimi, constantly waddling after\n",
            "Celeste, unseen through Celeste's fog of paranoia) indulges a taste for Tammy Faye Baker, for which\n",
            "Tawnee had been in fact specifically hired.Rosie Schwartz (Whoopi Goldberg) has seen it all before.\n",
            "She is the head writer of the show, and she and Celeste have been excellent support networks to each\n",
            "other for 15 years. So when Celeste freaks, Rosie offers to write her off the show for six months:\n",
            "\\\"We'll just say that Maggie went to visit with the Dalai Lama.\\\" But Celeste has doubts: \\\"I\n",
            "thought that the Dalai Lama moved to LA.\\\" \\\"-Well, then, some other lama, Fernando Lamas, come\n",
            "on!\\\". Such a skewering line must be rather affronting to still living beefcake actor Lorenzo Lamas,\n",
            "son of aforementioned Fernando Lamas (d. 1982).Those who can remember the economics teacher (Ben\n",
            "Stein) in Ferris Bueller's Day Off (1986) as he deadeningly calls the roll (\\\"Bueller. Bueller.\n",
            "Bueller\\\"), will take secret pleasure from seeing him again as a nitwit writer. Other well hidden\n",
            "member of the cast include Garry Marshall (in real life Mr Happy Days and brother of Penny), who\n",
            "\\\"gets paid $1.2 million to make the command decisions\\\" on The Sun Also Sets - he says he\n",
            "definitely likes \\\"peppy and cheap\\\"; and Carrie Fisher as Betsy Faye Sharon, who's \\\"a\n",
            "bitch\\\".Geoffrey Anderson (Kevin Kline) is the \\\"yummy-with-a-spoon\\\" (and he is, by the way) dinner\n",
            "theater actor now rescued from his Hell by David Seaton Barnes (Robert Downey Jr), and brought back\n",
            "to the same show he was canned from 20 years earlier. Of course this presents some logical\n",
            "challenges for the current scriptwriters because his character, Rod Randall, was supposed to have\n",
            "been decapitated all those years ago. Somehow they work out the logical difficulties, and Geoffrey\n",
            "Anderson steps off the choo-choo.Celeste can now only get worse, and her trick of going across the\n",
            "Washington bridge no longer helps. First, her hands shake as she tries to put on mascara, but she\n",
            "soon degenerates into a stalker. Unfortunately, she cannot get rid of Geoffrey Anderson so easily.\n",
            "Geoffrey's been promised development of his one-man play about Hamlet, and he means to hold the\n",
            "producer to that promise. \\\"I'm not going back to Florida no-how!\\\", argues Geoffrey. \\\"You try\n",
            "playing Willie Loman in front of a bunch of old farts eating meatloaf !\\\" And indeed, seeing\n",
            "Geoffrey's dinner theater lifestyle amongst all the hocking and accidents is hilarious. Back in\n",
            "Florida in his Willie Loman fat suit in his room, Geoffrey Anderson used to chafe at being called to\n",
            "stage as \\\"Mr Loman\\\". He was forced to splat whatever cockroaches crawled across his TV with a\n",
            "shoe, and to use pliers instead of the broken analog channel changer. Now he find himself as the\n",
            "yummy surgeon dating Laurie Craven, the show's new ingenue; so he's not leaving.Beautiful Elizabeth\n",
            "Shue (as Laurie) rounds out the amazing ensemble cast who all do the fantastic job of those who know\n",
            "the stereotypes all too well. But, of course, the course to true love never did run smoothly.\n",
            "Montana Moorehead (Cathy Moriarty) is getting impatient waiting for her star to rise, and is getting\n",
            "desperate for some publicity.Will her plots finally succeed? Will Celeste settle her nerves, or will\n",
            "she kill Tawnee first? Will the producer get Mr Fuzzy? -You'll just have to watch * the second half\n",
            "* of this utterly lovable, farcically malicious riot.And you'll really have to see to believe how\n",
            "the short-sighted Geoffrey reads his lines without glasses live off the TelePrompter. If you are not\n",
            "in stitches with stomach-heaving laughter and tears pouring down your face, feel free to demand your\n",
            "money back for the video rental. Soapdish (1991) is an unmissable gem that you will need to see\n",
            "again and again, because it's not often that a movie can deliver so amply with so many hilarious\n",
            "lines. This is very well-crafted humor, almost all of it in the writing. A draw with Blazing Saddles\n",
            "(1974) for uproarious apoplexy value, although otherwise dissimilar. Watch it and weep. A happy\n",
            "source for anyone's video addiction. 10 out of 10.\"\n",
            "---------------\n",
            "linear: Negative\n",
            "lstm: Positive\n",
            "true: Positive\n",
            "\"This Night Listener is better than people are generally saying. It has weaknesses, and it seems to\n",
            "be having a genre identity crisis, no doubt, but I think its creepy atmosphere and intriguing\n",
            "performances make up for this. The whole thing feels like one of those fireside \\\"this happened to a\n",
            "friend of a friend of mine\\\" ghost stories. One big complaint about the movie is the pacing: but the\n",
            "slow and sometimes awkward pacing is deliberate. Everything that unfolds in this movie is kept well\n",
            "within the realm of possibility, and real life just sort of plods alongno? So there are no flashy\n",
            "endings or earth-shattering revelations, no \\\"showdown\\\" scenes. Thank Heaven. You have to get into\n",
            "the zone when watching this movie, forget your reservations and your expectations of what makes a\n",
            "(conventionally)good movie. Williams isn't terrific, but he easily meets the needs of the story,\n",
            "plus his character is supposed to be somewhat generic (\\\"No One\\\") as he is the Everyman, the avatar\n",
            "by which we ourselves enter the story. Toni Collette's performance should be nominated for an Oscar\n",
            "(even if she maybe shouldn't win it). Give it a shot. For quality and content alone, The Night\n",
            "Listener is surely in the top twenty percent of movies coming out these days.\"\n",
            "---------------\n",
            "linear: Negative\n",
            "lstm: Positive\n",
            "true: Positive\n",
            "\"Reese Witherspoon first outing on the big screen was a memorable one. She appears like a fresh\n",
            "scrubbed face \\\"tween\\\" slight and stringy, but undeniably Reese.I have always liked her as an\n",
            "actor, and had no idea she started this young with her career, go figure. I actually gained some\n",
            "respect for Reese to know who she was so early on. I say that because whenever I have watched her\n",
            "perform, the characters thus far, in each portrayal she also seemed to have her own persona that\n",
            "lived with that character, quite nicely in fact.Anyway, my first film experience with Reese was the\n",
            "Little Red Riding Hood parody Reese did with Kiefer Sutherland, somehow I assumed that was her first\n",
            "time up \\\"at bat\\\" Not so, well done Reese\"\n"
          ]
        }
      ]
    },
    {
      "cell_type": "markdown",
      "source": [
        "Linear right but LSTM wrong"
      ],
      "metadata": {
        "id": "djF-2TK464jT"
      }
    },
    {
      "cell_type": "code",
      "source": [
        "count = 0\n",
        "\n",
        "for i in range(len(short_X)):\n",
        "    if count > 3:\n",
        "        break\n",
        "    if linear_results[i].item() == short_Y[i].item() and lstm_results[i].item() != short_Y[i].item():\n",
        "        print('---------------')\n",
        "        print('linear:', 'Positive' if linear_results[i].item() == 1 else 'Negative')\n",
        "        print('lstm:', 'Positive' if lstm_results[i].item() == 1 else 'Negative')\n",
        "        print('true:', 'Positive' if short_Y[i].item() == 1 else 'Negative')\n",
        "        print(textwrap.fill(BeautifulSoup(shortLabeledTrainData['review'][i]).get_text(), 100))\n",
        "        count += 1"
      ],
      "metadata": {
        "id": "nqEv5Wmp699Q",
        "colab": {
          "base_uri": "https://localhost:8080/"
        },
        "outputId": "9ce82dea-998a-4c83-b89c-94b5319877a0"
      },
      "execution_count": null,
      "outputs": [
        {
          "output_type": "stream",
          "name": "stdout",
          "text": [
            "---------------\n",
            "linear: Positive\n",
            "lstm: Negative\n",
            "true: Positive\n",
            "\"Eva (Hedy Lamarr) has just got married with an older man and in the honeymoon, she realizes that\n",
            "her husband does not desire her. Her disappointment with the marriage and the privation of love,\n",
            "makes Eva returning to her father's home in a farm, leaving her husband. One afternoon, while\n",
            "bathing in a lake, her horse escapes with her clothes and an young worker retrieves and gives them\n",
            "back to Eva. They fall in love for each other and become lovers. Later, her husband misses her and\n",
            "tries to have Eva back home. Eva refuses, and fortune leads the trio to the same place, ending the\n",
            "affair in a tragic way. I have just watched \\\"Extase\\\" for the first time, and the first remark I\n",
            "have is relative to the horrible quality of the VHS released in Brazil by the Brazilian distributor\n",
            "Video Network: the movie has only 75 minutes running time, and it seems that it was used different\n",
            "reels of film. There are some parts totally damaged, and other parts very damaged. Therefore, the\n",
            "beauty of the images in not achieved by the Brazilian viewer, if he has a chance to find this rare\n",
            "VHS in a rental or for sale. The film is practically a silent movie, the story is very dated and has\n",
            "only a few lines. Consequently, the characters are badly developed. However, this movie is also very\n",
            "daring, with the exposure of Hedy Lamarr beautiful breasts and naked fat body for the present\n",
            "standards of beauty. Another fantastic point is the poetic and metaphoric used of flowers,\n",
            "symbolizing the intercourse between Eva and her lover. The way the director conducts the scenes to\n",
            "show the needs and privation of Eva is very clear. The non-conclusive end is also very unusual for a\n",
            "1933 movie. I liked this movie, but I hope one day have a chance to see a 87 minutes restored\n",
            "version. My vote is eight.Title (Brazil): \\\"Êxtase\\\" (\\\"Ecstasy\\\")\"\n",
            "---------------\n",
            "linear: Positive\n",
            "lstm: Negative\n",
            "true: Positive\n",
            "\"Okay, sorry, but I loved this movie. I just love the whole 80's genre of these kind of movies,\n",
            "because you don't see many like this one anymore! I want to ask all of you people who say this movie\n",
            "is just a rip-off, or a cheesy imitation, what is it imitating? I've never seen another movie like\n",
            "this one, well, not horror anyway.Basically its about the popular group in school, who like to make\n",
            "everyones lives living hell, so they decided to pick on this nerdy boy named Marty. It turns fatal\n",
            "when he really gets hurt from one of their little pranks.So, its like 10 years later, and the group\n",
            "of friends who hurt Marty start getting High School reunion letters. But...they are the only ones\n",
            "receiving them! So they return back to the old school, and one by one get knocked off by.......Yeah\n",
            "you probably know what happens!The only part that disappointed me was the very end. It could have\n",
            "been left off, or thought out better.I think you should give it a try, and try not to be to\n",
            "critical!~*~CupidGrl~*~\"\n",
            "---------------\n",
            "linear: Negative\n",
            "lstm: Positive\n",
            "true: Negative\n",
            "\"Last week, I took a look at the weekly Nielsen ratings, and there was Veronica Mars, supposedly\n",
            "\\\"the best show you're not watching\\\".Well, they're right that you're not watching it. It aired\n",
            "twice and was ranked 147 and 145 out of 147.Translation: this is the lowest-rated show on any\n",
            "nationally broadcast network... and deservedly so. I tried to watch it a couple of times because of\n",
            "all the press coverage hyping it as a \\\"great\\\" show, a \\\"realistic look\\\" at life and all such\n",
            "nonsense. The reality was otherwise. Veronica Mars is a bore. It's as unrealistic as it gets, and it\n",
            "richly deserves to be canceled.The only Mystery is why CW felt compelled to put on its inaugural\n",
            "schedule the lowest-rated show in memory, after two years of continued commercial and artistic\n",
            "failure.\"\n",
            "---------------\n",
            "linear: Positive\n",
            "lstm: Negative\n",
            "true: Positive\n",
            "\"Yes, this IS a horror anthology film and it was a lot of fun! That's because although the film\n",
            "clearly was horror, some of the stories had a light spirit--and there were even occasionally a few\n",
            "laughs. This isn't at all a bad thing as sometimes horror films are a bit stuffy and overly serious.\n",
            "Because of this and because all four of the stories were pretty good, it's one of the better movies\n",
            "of this style I have seen.The unifying theme that connects each story is the house itself. Four\n",
            "different stories involve people who either rent the home or investigate what happened to the\n",
            "tenants.The first segment starred Denholm Elliott as a horror writer who has writer's block. So, for\n",
            "a change of scenery, they rent this house. Almost immediately Elliott's block vanishes and he works\n",
            "steadily on a tale about a serial killer. Amazingly, soon after his block vanishes he begins to\n",
            "actually see his fictional character! Again and again, the psychotic killer appears and then\n",
            "disappears--making it seem as if he is losing his mind. This might just be the best of the stories,\n",
            "as the nice twist ending makes the story come alive.The second, while not bad at all, is probably\n",
            "the weakest. Peter Cushing plays a bachelor who is pining for a girl friend who died some time ago\n",
            "(though the picture of her looked amazingly contemporary). When he enters a chamber of horrors wax\n",
            "museum in town, he sees a wax figure that reminds him of his lost lady and he is both fascinated and\n",
            "scared by this. Later, a friend (Joss Ackland) visits and he, too, sees the figure and is entranced\n",
            "by it. This all leads to an ending that, frankly, was a bit of a letdown.Christopher Lee then stars\n",
            "as an incredibly harsh and stern father to a pathetic little girl. During most of this segment, Lee\n",
            "seemed like an idiot, but in the end you can understand his demeanor. Though slow, this one ended\n",
            "very well.The fourth segment was the silliest and was meant to parody the genre. Jon Pertwee (the\n",
            "third \\\"Doctor\\\" from the DR. WHO television series) is a very temperamental actor known for his\n",
            "portrayals of Dracula. However, nothing is right about the film according to him and in a fit of\n",
            "pique, he stomps off the set to find better props for this vampire film. It's actually pretty\n",
            "interesting that he played this role, as it seemed like a natural for Christopher Lee who played\n",
            "Dracula or other vampires a bazillion times (give or take a few). I enjoyed Pertwee's line when he\n",
            "basically said that Lee's and other recent incarnations of Dracula were all crap compared to Bela\n",
            "Lugosi's! Perhaps this is why Lee didn't take this part! Despite some very silly moments, it was\n",
            "very entertaining and fun--possibly as good or better than the first segment.Considering that the\n",
            "film started and ended so well, had excellent acting and writing, it's hard not to like this film.\"\n"
          ]
        }
      ]
    },
    {
      "cell_type": "markdown",
      "source": [
        "Both LSTM and Linear correct"
      ],
      "metadata": {
        "id": "r5eJqXgA64oH"
      }
    },
    {
      "cell_type": "code",
      "source": [
        "count = 0\n",
        "\n",
        "for i in range(len(short_X)):\n",
        "    if count > 3:\n",
        "        break\n",
        "    if linear_results[i].item() == short_Y[i].item() and lstm_results[i].item() == short_Y[i].item():\n",
        "        print('---------------')\n",
        "        print('linear:', 'Positive' if linear_results[i].item() == 1 else 'Negative')\n",
        "        print('lstm:', 'Positive' if lstm_results[i].item() == 1 else 'Negative')\n",
        "        print('true:', 'Positive' if short_Y[i].item() == 1 else 'Negative')\n",
        "        print(textwrap.fill(BeautifulSoup(shortLabeledTrainData['review'][i]).get_text(), 100))\n",
        "        count += 1"
      ],
      "metadata": {
        "id": "rGjmo5Fy7HzP",
        "colab": {
          "base_uri": "https://localhost:8080/"
        },
        "outputId": "a2b70f5a-256e-44c6-85d5-58de7ffb9b82"
      },
      "execution_count": null,
      "outputs": [
        {
          "output_type": "stream",
          "name": "stdout",
          "text": [
            "---------------\n",
            "linear: Positive\n",
            "lstm: Positive\n",
            "true: Positive\n",
            "\"With all this stuff going down at the moment with MJ i've started listening to his music, watching\n",
            "the odd documentary here and there, watched The Wiz and watched Moonwalker again. Maybe i just want\n",
            "to get a certain insight into this guy who i thought was really cool in the eighties just to maybe\n",
            "make up my mind whether he is guilty or innocent. Moonwalker is part biography, part feature film\n",
            "which i remember going to see at the cinema when it was originally released. Some of it has subtle\n",
            "messages about MJ's feeling towards the press and also the obvious message of drugs are bad\n",
            "m'kay.Visually impressive but of course this is all about Michael Jackson so unless you remotely\n",
            "like MJ in anyway then you are going to hate this and find it boring. Some may call MJ an egotist\n",
            "for consenting to the making of this movie BUT MJ and most of his fans would say that he made it for\n",
            "the fans which if true is really nice of him.The actual feature film bit when it finally starts is\n",
            "only on for 20 minutes or so excluding the Smooth Criminal sequence and Joe Pesci is convincing as a\n",
            "psychopathic all powerful drug lord. Why he wants MJ dead so bad is beyond me. Because MJ overheard\n",
            "his plans? Nah, Joe Pesci's character ranted that he wanted people to know it is he who is supplying\n",
            "drugs etc so i dunno, maybe he just hates MJ's music.Lots of cool things in this like MJ turning\n",
            "into a car and a robot and the whole Speed Demon sequence. Also, the director must have had the\n",
            "patience of a saint when it came to filming the kiddy Bad sequence as usually directors hate working\n",
            "with one kid let alone a whole bunch of them performing a complex dance scene.Bottom line, this\n",
            "movie is for people who like MJ on one level or another (which i think is most people). If not, then\n",
            "stay away. It does try and give off a wholesome message and ironically MJ's bestest buddy in this\n",
            "movie is a girl! Michael Jackson is truly one of the most talented people ever to grace this planet\n",
            "but is he guilty? Well, with all the attention i've gave this subject....hmmm well i don't know\n",
            "because people can be different behind closed doors, i know this for a fact. He is either an\n",
            "extremely nice but stupid guy or one of the most sickest liars. I hope he is not the latter.\"\n",
            "---------------\n",
            "linear: Positive\n",
            "lstm: Positive\n",
            "true: Positive\n",
            "\"\\\"The Classic War of the Worlds\\\" by Timothy Hines is a very entertaining film that obviously goes\n",
            "to great effort and lengths to faithfully recreate H. G. Wells' classic book. Mr. Hines succeeds in\n",
            "doing so. I, and those who watched his film with me, appreciated the fact that it was not the\n",
            "standard, predictable Hollywood fare that comes out every year, e.g. the Spielberg version with Tom\n",
            "Cruise that had only the slightest resemblance to the book. Obviously, everyone looks for different\n",
            "things in a movie. Those who envision themselves as amateur \\\"critics\\\" look only to criticize\n",
            "everything they can. Others rate a movie on more important bases,like being entertained, which is\n",
            "why most people never agree with the \\\"critics\\\". We enjoyed the effort Mr. Hines put into being\n",
            "faithful to H.G. Wells' classic novel, and we found it to be very entertaining. This made it easy to\n",
            "overlook what the \\\"critics\\\" perceive to be its shortcomings.\"\n",
            "---------------\n",
            "linear: Negative\n",
            "lstm: Negative\n",
            "true: Negative\n",
            "\"The film starts with a manager (Nicholas Bell) giving welcome investors (Robert Carradine) to\n",
            "Primal Park . A secret project mutating a primal animal using fossilized DNA, like ¨Jurassik Park¨,\n",
            "and some scientists resurrect one of nature's most fearsome predators, the Sabretooth tiger or\n",
            "Smilodon . Scientific ambition turns deadly, however, and when the high voltage fence is opened the\n",
            "creature escape and begins savagely stalking its prey - the human visitors , tourists and\n",
            "scientific.Meanwhile some youngsters enter in the restricted area of the security center and are\n",
            "attacked by a pack of large pre-historical animals which are deadlier and bigger . In addition , a\n",
            "security agent (Stacy Haiduk) and her mate (Brian Wimmer) fight hardly against the carnivorous\n",
            "Smilodons. The Sabretooths, themselves , of course, are the real star stars and they are astounding\n",
            "terrifyingly though not convincing. The giant animals savagely are stalking its prey and the group\n",
            "run afoul and fight against one nature's most fearsome predators. Furthermore a third Sabretooth\n",
            "more dangerous and slow stalks its victims.The movie delivers the goods with lots of blood and gore\n",
            "as beheading, hair-raising chills,full of scares when the Sabretooths appear with mediocre special\n",
            "effects.The story provides exciting and stirring entertainment but it results to be quite boring\n",
            ".The giant animals are majority made by computer generator and seem totally lousy .Middling\n",
            "performances though the players reacting appropriately to becoming food.Actors give vigorously\n",
            "physical performances dodging the beasts ,running,bound and leaps or dangling over walls . And it\n",
            "packs a ridiculous final deadly scene. No for small kids by realistic,gory and violent attack scenes\n",
            ". Other films about Sabretooths or Smilodon are the following : ¨Sabretooth(2002)¨by James R Hickox\n",
            "with Vanessa Angel, David Keith and John Rhys Davies and the much better ¨10.000 BC(2006)¨ by Roland\n",
            "Emmerich with with Steven Strait, Cliff Curtis and Camilla Belle. This motion picture filled with\n",
            "bloody moments is badly directed by George Miller and with no originality because takes too many\n",
            "elements from previous films. Miller is an Australian director usually working for television (Tidal\n",
            "wave, Journey to the center of the earth, and many others) and occasionally for cinema ( The man\n",
            "from Snowy river, Zeus and Roxanne,Robinson Crusoe ). Rating : Below average, bottom of barrel.\"\n",
            "---------------\n",
            "linear: Negative\n",
            "lstm: Negative\n",
            "true: Negative\n",
            "\"It must be assumed that those who praised this film (\\\"the greatest filmed opera ever,\\\" didn't I\n",
            "read somewhere?) either don't care for opera, don't care for Wagner, or don't care about anything\n",
            "except their desire to appear Cultured. Either as a representation of Wagner's swan-song, or as a\n",
            "movie, this strikes me as an unmitigated disaster, with a leaden reading of the score matched to a\n",
            "tricksy, lugubrious realisation of the text.It's questionable that people with ideas as to what an\n",
            "opera (or, for that matter, a play, especially one by Shakespeare) is \\\"about\\\" should be allowed\n",
            "anywhere near a theatre or film studio; Syberberg, very fashionably, but without the smallest\n",
            "justification from Wagner's text, decided that Parsifal is \\\"about\\\" bisexual integration, so that\n",
            "the title character, in the latter stages, transmutes into a kind of beatnik babe, though one who\n",
            "continues to sing high tenor -- few if any of the actors in the film are the singers, and we get a\n",
            "double dose of Armin Jordan, the conductor, who is seen as the face (but not heard as the voice) of\n",
            "Amfortas, and also appears monstrously in double exposure as a kind of Batonzilla or Conductor Who\n",
            "Ate Monsalvat during the playing of the Good Friday music -- in which, by the way, the transcendant\n",
            "loveliness of nature is represented by a scattering of shopworn and flaccid crocuses stuck in ill-\n",
            "laid turf, an expedient which baffles me. In the theatre we sometimes have to piece out such\n",
            "imperfections with our thoughts, but I can't think why Syberberg couldn't splice in, for Parsifal\n",
            "and Gurnemanz, mountain pasture as lush as was provided for Julie Andrews in Sound of Music...The\n",
            "sound is hard to endure, the high voices and the trumpets in particular possessing an aural glare\n",
            "that adds another sort of fatigue to our impatience with the uninspired conducting and paralytic\n",
            "unfolding of the ritual. Someone in another review mentioned the 1951 Bayreuth recording, and\n",
            "Knappertsbusch, though his tempi are often very slow, had what Jordan altogether lacks, a sense of\n",
            "pulse, a feeling for the ebb and flow of the music -- and, after half a century, the orchestral\n",
            "sound in that set, in modern pressings, is still superior to this film.\"\n"
          ]
        }
      ]
    }
  ]
}